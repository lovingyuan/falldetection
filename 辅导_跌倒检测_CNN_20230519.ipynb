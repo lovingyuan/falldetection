{
 "cells": [
  {
   "cell_type": "markdown",
   "metadata": {},
   "source": [
    "# CNN实现跌倒检测"
   ]
  },
  {
   "cell_type": "code",
   "execution_count": 2,
   "metadata": {},
   "outputs": [],
   "source": [
    "import os\n",
    "import torch\n",
    "from torch.utils import data\n",
    "from PIL import Image\n",
    "import numpy as np\n",
    "from torchvision import transforms,datasets\n",
    "import shutil\n",
    "from torch.nn import init\n",
    "import torch.nn.functional as F\n",
    "import matplotlib.pyplot as plt\n",
    "import time "
   ]
  },
  {
   "cell_type": "code",
   "execution_count": 3,
   "metadata": {},
   "outputs": [],
   "source": [
    "transform = transforms.Compose([transforms.Resize(256),transforms.CenterCrop(224),transforms.ToTensor(),transforms.Normalize(mean=[.5, .5, .5], std=[.5, .5, .5])  ])"
   ]
  },
  {
   "cell_type": "code",
   "execution_count": 4,
   "metadata": {},
   "outputs": [],
   "source": [
    "train_dataset=datasets.ImageFolder('C:/Users/Desktop/20230511_code/URFD_images/data/train',transform=transform)\n",
    "val_dataset=datasets.ImageFolder('C:/Users/Desktop/20230511_code/URFD_images/data/val',transform=transform)\n",
    "test_dataset=datasets.ImageFolder('C:/Users/Desktop/20230511_code/URFD_images/data/test',transform=transform)"
   ]
  },
  {
   "cell_type": "code",
   "execution_count": 5,
   "metadata": {},
   "outputs": [],
   "source": [
    "batch_size=100\n",
    "train_loader = torch.utils.data.DataLoader(train_dataset, batch_size=batch_size, shuffle=True, num_workers=0)\n",
    "val_loader = torch.utils.data.DataLoader(val_dataset, batch_size=batch_size, shuffle=True, num_workers=0)\n",
    "test_loader = torch.utils.data.DataLoader(test_dataset, batch_size=batch_size, shuffle=True, num_workers=0)"
   ]
  },
  {
   "cell_type": "code",
   "execution_count": 6,
   "metadata": {},
   "outputs": [],
   "source": [
    "class MyConvModule(torch.nn.Module):\n",
    "    def __init__(self):\n",
    "        super(MyConvModule,self).__init__()\n",
    "        self.conv1=torch.nn.Sequential(torch.nn.Conv2d(in_channels=3,out_channels=32,kernel_size=11),\n",
    "                                     torch.nn.BatchNorm2d(32),\n",
    "                                     torch.nn.ReLU(inplace=True))\n",
    "        self.maxpool=torch.nn.MaxPool2d(10, 4)\n",
    "        self.fc1=torch.nn.Linear(32*52*52,1024)\n",
    "        self.fc2=torch.nn.Linear(1024,512)\n",
    "        self.fc3=torch.nn.Linear(512,2)\n",
    "        \n",
    "    def forward(self,X):\n",
    "        X=self.conv1(X)\n",
    "        X=self.maxpool(X)\n",
    "        X=X.view(-1,32*52*52)\n",
    "        X=F.relu(self.fc1(X))\n",
    "        X=F.relu(self.fc2(X))\n",
    "        X=self.fc3(X)\n",
    "        return X"
   ]
  },
  {
   "cell_type": "code",
   "execution_count": 7,
   "metadata": {},
   "outputs": [],
   "source": [
    "def train(net,data_loader):\n",
    "    net.train()\n",
    "    train_batch_num=len(data_loader)\n",
    "    total_loss=0\n",
    "    correct=0\n",
    "    sample_num=0\n",
    "    for batch_idx,(data,target) in enumerate(data_loader):\n",
    "        optimizer.zero_grad()\n",
    "        output=net(data)\n",
    "        loss=criterion(output,target)\n",
    "        loss.backward()\n",
    "        optimizer.step()\n",
    "        total_loss+=loss.item()\n",
    "        prediction=torch.argmax(output,1)\n",
    "        correct+=(prediction==target).sum().item()\n",
    "        sample_num+=len(prediction)\n",
    "    loss=total_loss/train_batch_num\n",
    "    acc=correct/sample_num\n",
    "    return loss,acc"
   ]
  },
  {
   "cell_type": "code",
   "execution_count": 8,
   "metadata": {},
   "outputs": [],
   "source": [
    "def test(net,data_loader):\n",
    "    net.eval()\n",
    "    test_batch_num=len(data_loader)\n",
    "    total_loss=0\n",
    "    correct=0\n",
    "    sample_num=0\n",
    "    for batch_idx,(data,target) in enumerate(data_loader):\n",
    "        output=net(data)\n",
    "        loss=criterion(output,target)\n",
    "        total_loss+=loss.item()\n",
    "        prediction=torch.argmax(output,1)\n",
    "        correct+=(prediction==target).sum().item()\n",
    "        sample_num+=len(prediction)\n",
    "    loss=total_loss/test_batch_num\n",
    "    acc=correct/sample_num\n",
    "    return loss,acc"
   ]
  },
  {
   "cell_type": "code",
   "execution_count": 9,
   "metadata": {},
   "outputs": [
    {
     "name": "stdout",
     "output_type": "stream",
     "text": [
      "MyConvModule(\n",
      "  (conv1): Sequential(\n",
      "    (0): Conv2d(3, 32, kernel_size=(11, 11), stride=(1, 1))\n",
      "    (1): BatchNorm2d(32, eps=1e-05, momentum=0.1, affine=True, track_running_stats=True)\n",
      "    (2): ReLU(inplace=True)\n",
      "  )\n",
      "  (maxpool): MaxPool2d(kernel_size=10, stride=4, padding=0, dilation=1, ceil_mode=False)\n",
      "  (fc1): Linear(in_features=86528, out_features=1024, bias=True)\n",
      "  (fc2): Linear(in_features=1024, out_features=512, bias=True)\n",
      "  (fc3): Linear(in_features=512, out_features=2, bias=True)\n",
      ")\n"
     ]
    }
   ],
   "source": [
    "net=MyConvModule()\n",
    "print(net)\n",
    "optimizer = torch.optim.Adam(net.parameters(), lr=5e-6)\n",
    "criterion=torch.nn.CrossEntropyLoss()"
   ]
  },
  {
   "cell_type": "code",
   "execution_count": 10,
   "metadata": {
    "scrolled": true
   },
   "outputs": [
    {
     "name": "stdout",
     "output_type": "stream",
     "text": [
      "epoch: 0 \t train_loss: 0.6474\t train_acc: 0.7142857142857143\t val_loss: 0.6586\t val_acc:0.5555555555555556 test_loss: 0.6525\t test_acc:0.5813953488372093\n",
      "epoch: 1 \t train_loss: 0.5523\t train_acc: 0.7142857142857143\t val_loss: 0.6168\t val_acc:0.5555555555555556 test_loss: 0.6098\t test_acc:0.5813953488372093\n",
      "epoch: 2 \t train_loss: 0.4903\t train_acc: 0.7142857142857143\t val_loss: 0.5708\t val_acc:0.5555555555555556 test_loss: 0.5641\t test_acc:0.5813953488372093\n",
      "epoch: 3 \t train_loss: 0.4357\t train_acc: 0.7142857142857143\t val_loss: 0.5268\t val_acc:0.8666666666666667 test_loss: 0.5205\t test_acc:0.8604651162790697\n",
      "epoch: 4 \t train_loss: 0.4106\t train_acc: 0.8877551020408163\t val_loss: 0.4905\t val_acc:0.9777777777777777 test_loss: 0.4837\t test_acc:0.9534883720930233\n",
      "epoch: 5 \t train_loss: 0.3873\t train_acc: 0.9183673469387755\t val_loss: 0.4654\t val_acc:0.8666666666666667 test_loss: 0.4573\t test_acc:0.8604651162790697\n",
      "epoch: 6 \t train_loss: 0.3591\t train_acc: 0.8775510204081632\t val_loss: 0.4457\t val_acc:0.6666666666666666 test_loss: 0.4366\t test_acc:0.6976744186046512\n",
      "epoch: 7 \t train_loss: 0.3426\t train_acc: 0.826530612244898\t val_loss: 0.4204\t val_acc:0.7333333333333333 test_loss: 0.4113\t test_acc:0.6976744186046512\n",
      "epoch: 8 \t train_loss: 0.3262\t train_acc: 0.8367346938775511\t val_loss: 0.3877\t val_acc:0.9777777777777777 test_loss: 0.3793\t test_acc:0.9069767441860465\n",
      "epoch: 9 \t train_loss: 0.3069\t train_acc: 0.8979591836734694\t val_loss: 0.3539\t val_acc:1.0 test_loss: 0.3463\t test_acc:0.9767441860465116\n",
      "epoch: 10 \t train_loss: 0.2941\t train_acc: 0.9183673469387755\t val_loss: 0.3274\t val_acc:1.0 test_loss: 0.3203\t test_acc:1.0\n",
      "epoch: 11 \t train_loss: 0.2838\t train_acc: 0.9183673469387755\t val_loss: 0.3115\t val_acc:1.0 test_loss: 0.3046\t test_acc:1.0\n",
      "epoch: 12 \t train_loss: 0.2705\t train_acc: 0.9285714285714286\t val_loss: 0.3027\t val_acc:1.0 test_loss: 0.2961\t test_acc:0.9534883720930233\n",
      "epoch: 13 \t train_loss: 0.2592\t train_acc: 0.9591836734693877\t val_loss: 0.2931\t val_acc:1.0 test_loss: 0.2870\t test_acc:0.9534883720930233\n",
      "epoch: 14 \t train_loss: 0.2508\t train_acc: 0.9387755102040817\t val_loss: 0.2762\t val_acc:1.0 test_loss: 0.2713\t test_acc:0.9534883720930233\n",
      "epoch: 15 \t train_loss: 0.2411\t train_acc: 0.9591836734693877\t val_loss: 0.2548\t val_acc:1.0 test_loss: 0.2509\t test_acc:1.0\n",
      "epoch: 16 \t train_loss: 0.2315\t train_acc: 0.9591836734693877\t val_loss: 0.2351\t val_acc:1.0 test_loss: 0.2323\t test_acc:1.0\n",
      "epoch: 17 \t train_loss: 0.2240\t train_acc: 0.9489795918367347\t val_loss: 0.2224\t val_acc:1.0 test_loss: 0.2206\t test_acc:1.0\n",
      "epoch: 18 \t train_loss: 0.2160\t train_acc: 0.9591836734693877\t val_loss: 0.2164\t val_acc:1.0 test_loss: 0.2156\t test_acc:1.0\n",
      "epoch: 19 \t train_loss: 0.2076\t train_acc: 0.9693877551020408\t val_loss: 0.2124\t val_acc:1.0 test_loss: 0.2128\t test_acc:1.0\n"
     ]
    }
   ],
   "source": [
    "epoch=20\n",
    "train_loss_list=[]\n",
    "train_acc_list=[]\n",
    "val_loss_list=[]\n",
    "val_acc_list=[]\n",
    "test_loss_list=[]\n",
    "test_acc_list=[]\n",
    "since=time.time()\n",
    "for epoch in range(epoch):\n",
    "    train_loss,train_acc=train(net,train_loader)\n",
    "    val_loss,val_acc=test(net,val_loader)\n",
    "    test_loss,test_acc=test(net,test_loader)\n",
    "    train_loss_list.append(train_loss)\n",
    "    train_acc_list.append(train_acc)\n",
    "    val_loss_list.append(val_loss)\n",
    "    val_acc_list.append(val_acc)\n",
    "    test_loss_list.append(test_loss)\n",
    "    test_acc_list.append(test_acc)\n",
    "    print(f\"epoch: {epoch} \\t train_loss: {train_loss:.4f}\\t\"\n",
    "          f\" train_acc: {train_acc}\\t\"\n",
    "          f\" val_loss: {val_loss:.4f}\\t val_acc:{val_acc}\"\n",
    "          f\" test_loss: {test_loss:.4f}\\t test_acc:{test_acc}\")\n",
    "time_elapsed=(time.time()-since)/60"
   ]
  },
  {
   "cell_type": "code",
   "execution_count": 11,
   "metadata": {},
   "outputs": [
    {
     "data": {
      "text/plain": [
       "1.6712857802708945"
      ]
     },
     "execution_count": 11,
     "metadata": {},
     "output_type": "execute_result"
    }
   ],
   "source": [
    "time_elapsed"
   ]
  },
  {
   "cell_type": "code",
   "execution_count": 12,
   "metadata": {},
   "outputs": [
    {
     "data": {
      "image/png": "[encoded data removed]",
      "text/plain": [
       "<Figure size 432x288 with 1 Axes>"
      ]
     },
     "metadata": {
      "needs_background": "light"
     },
     "output_type": "display_data"
    }
   ],
   "source": [
    "x=np.linspace(0,len(train_loss_list),len(test_loss_list))\n",
    "plt.plot(x,train_loss_list,label=\"train_loss\",linewidth=1.5)\n",
    "plt.plot(x,val_loss_list,label=\"val_loss\",linewidth=1.5)\n",
    "plt.plot(x,test_loss_list,label=\"test_loss\",linewidth=1.5)\n",
    "plt.xlabel(\"epoch\")\n",
    "plt.ylabel(\"loss\")\n",
    "plt.legend()\n",
    "plt.show()"
   ]
  },
  {
   "cell_type": "code",
   "execution_count": 13,
   "metadata": {},
   "outputs": [
    {
     "data": {
      "image/png": "[encoded data removed]",
      "text/plain": [
       "<Figure size 432x288 with 1 Axes>"
      ]
     },
     "metadata": {
      "needs_background": "light"
     },
     "output_type": "display_data"
    }
   ],
   "source": [
    "x=np.linspace(0,len(train_acc_list),len(test_acc_list))\n",
    "plt.plot(x,train_acc_list,label=\"train_acc\",linewidth=1.5)\n",
    "plt.plot(x,val_acc_list,label=\"val_acc\",linewidth=1.5)\n",
    "plt.plot(x,test_acc_list,label=\"test_acc\",linewidth=1.5)\n",
    "plt.xlabel(\"epoch\")\n",
    "plt.ylabel(\"acc\")\n",
    "plt.legend()\n",
    "plt.show()"
   ]
  },
  {
   "cell_type": "code",
   "execution_count": null,
   "metadata": {},
   "outputs": [],
   "source": []
  }
 ],
 "metadata": {
  "kernelspec": {
   "display_name": "Python 3",
   "language": "python",
   "name": "python3"
  },
  "language_info": {
   "codemirror_mode": {
    "name": "ipython",
    "version": 3
   },
   "file_extension": ".py",
   "mimetype": "text/x-python",
   "name": "python",
   "nbconvert_exporter": "python",
   "pygments_lexer": "ipython3",
   "version": "3.7.3"
  }
 },
 "nbformat": 4,
 "nbformat_minor": 2
}
