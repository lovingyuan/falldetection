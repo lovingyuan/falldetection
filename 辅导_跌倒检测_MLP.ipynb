{
 "cells": [
  {
   "cell_type": "markdown",
   "metadata": {},
   "source": [
    "# MLP实现跌倒检测"
   ]
  },
  {
   "cell_type": "code",
   "execution_count": 2,
   "metadata": {},
   "outputs": [],
   "source": [
    "import os\n",
    "import torch\n",
    "from torch.utils import data\n",
    "from PIL import Image\n",
    "import numpy as np\n",
    "from torchvision import transforms,datasets\n",
    "import shutil\n",
    "from torch.nn import init\n",
    "import torch.nn.functional as F\n",
    "import matplotlib.pyplot as plt\n",
    "import time "
   ]
  },
  {
   "cell_type": "markdown",
   "metadata": {},
   "source": [
    "## 导入数据"
   ]
  },
  {
   "cell_type": "code",
   "execution_count": 3,
   "metadata": {},
   "outputs": [],
   "source": [
    "transform=transforms.Compose([transforms.Resize(256),transforms.CenterCrop(224),transforms.ToTensor(),transforms.Normalize(mean=[.5, .5, .5], std=[.5, .5, .5])  ])"
   ]
  },
  {
   "cell_type": "code",
   "execution_count": 20,
   "metadata": {},
   "outputs": [],
   "source": [
    "train_dataset=datasets.ImageFolder('C:/Users/Desktop/20230511_code/dataset/dataset/train',transform=transform)\n",
    "val_dataset=datasets.ImageFolder('C:/Users/Desktop/20230511_code/dataset/dataset/val',transform=transform)\n",
    "test_dataset=datasets.ImageFolder('C:/Users/Desktop/20230511_code/dataset/dataset/test',transform=transform)"
   ]
  },
  {
   "cell_type": "code",
   "execution_count": 21,
   "metadata": {},
   "outputs": [],
   "source": [
    "batch_size=100\n",
    "train_loader = torch.utils.data.DataLoader(train_dataset, batch_size=batch_size, shuffle=True, num_workers=0)\n",
    "val_loader = torch.utils.data.DataLoader(val_dataset, batch_size=batch_size, shuffle=True, num_workers=0)\n",
    "test_loader = torch.utils.data.DataLoader(test_dataset, batch_size=batch_size, shuffle=True, num_workers=0)"
   ]
  },
  {
   "cell_type": "markdown",
   "metadata": {},
   "source": [
    "## 定义模型"
   ]
  },
  {
   "cell_type": "code",
   "execution_count": 38,
   "metadata": {},
   "outputs": [],
   "source": [
    "class FlattenLayer(torch.nn.Module):\n",
    "    def _init_(self):\n",
    "        super(FlatenLayer,self)._init_()\n",
    "    def forward(self,X):\n",
    "        return X.view(X.shape[0],-1)"
   ]
  },
  {
   "cell_type": "code",
   "execution_count": 39,
   "metadata": {},
   "outputs": [],
   "source": [
    "num_inputs=224*224*3\n",
    "num_hiddens1=1024\n",
    "num_hiddens2=512\n",
    "num_outputs=3\n",
    "net=torch.nn.Sequential(FlattenLayer(),torch.nn.Linear(num_inputs,num_hiddens1),torch.nn.ReLU(),torch.nn.Linear(num_hiddens1,num_hiddens2),torch.nn.ReLU(),torch.nn.Linear(num_hiddens2,num_outputs))"
   ]
  },
  {
   "cell_type": "markdown",
   "metadata": {},
   "source": [
    "## 定义损失函数"
   ]
  },
  {
   "cell_type": "code",
   "execution_count": 40,
   "metadata": {},
   "outputs": [],
   "source": [
    "loss=torch.nn.CrossEntropyLoss()"
   ]
  },
  {
   "cell_type": "markdown",
   "metadata": {},
   "source": [
    "## 定义优化器"
   ]
  },
  {
   "cell_type": "code",
   "execution_count": 41,
   "metadata": {},
   "outputs": [],
   "source": [
    "lr=1e-5\n",
    "optimizer=torch.optim.Adam(net.parameters(),lr)"
   ]
  },
  {
   "cell_type": "markdown",
   "metadata": {},
   "source": [
    "## 定义计算精度函数"
   ]
  },
  {
   "cell_type": "code",
   "execution_count": 42,
   "metadata": {},
   "outputs": [],
   "source": [
    "def evaluate_accuracy(data_iter,net,loss):\n",
    "    acc_sum=0.0\n",
    "    n=0\n",
    "    test_l_sum=0.0\n",
    "    for X,y in data_iter:\n",
    "        acc_sum+=(net(X).argmax(dim=1) == y).float().sum().item()\n",
    "        l=loss(net(X),y).sum()\n",
    "        test_l_sum+=l.item()\n",
    "        n+=y.shape[0]\n",
    "    return acc_sum/n,test_l_sum/n"
   ]
  },
  {
   "cell_type": "markdown",
   "metadata": {},
   "source": [
    "## 定义训练模型函数"
   ]
  },
  {
   "cell_type": "code",
   "execution_count": 43,
   "metadata": {},
   "outputs": [],
   "source": [
    "def train(net,train_iter,val_iter,test_iter,loss,num_epochs,batch_size,params=None,lr=None,optimizer=None):\n",
    "    since=time.time()\n",
    "    train_loss=[]\n",
    "    val_loss=[]\n",
    "    test_loss=[]\n",
    "    train_acc_list=[]\n",
    "    val_acc_list=[]\n",
    "    test_acc_list=[]\n",
    "    for epoch in range(num_epochs):\n",
    "        n=0\n",
    "        m=0\n",
    "        testl=0.0\n",
    "        train_l=0.0\n",
    "        train_acc=0.0\n",
    "        for X,y in train_iter:\n",
    "            optimizer.zero_grad()\n",
    "            y_hat= net(X)\n",
    "            l =loss(y_hat, y).sum()\n",
    "            l.backward()\n",
    "            optimizer.step()\n",
    "            train_l+=l.item()\n",
    "            train_acc+=(y_hat.argmax(dim=1)==y).float().sum().item()\n",
    "            n+=y.shape[0]\n",
    "        test_acc,testl=evaluate_accuracy(test_iter,net,loss)\n",
    "        val_acc,val=evaluate_accuracy(val_iter,net,loss)\n",
    "        train_loss.append(train_l/n)\n",
    "        test_loss.append(testl)\n",
    "        val_loss.append(val)\n",
    "        train_acc_list.append(train_acc/n)\n",
    "        val_acc_list.append(val_acc)\n",
    "        test_acc_list.append(test_acc)\n",
    "        print('epoch %d, train_l %.6f, val %.6f,testl %.6f, train_acc %.4f, val_acc %.4f, test_acc %.4f' % (epoch + 1, train_l/n, val, testl,train_acc/n,val_acc, test_acc))\n",
    "    time_elapsed=(time.time()-since)/60\n",
    "    print(time_elapsed)\n",
    "    return  train_loss,val_loss, test_loss,train_acc_list,val_acc_list,test_acc_list"
   ]
  },
  {
   "cell_type": "markdown",
   "metadata": {},
   "source": [
    "## 绘制训练集和测试集loss曲线和精度曲线"
   ]
  },
  {
   "cell_type": "code",
   "execution_count": 44,
   "metadata": {
    "scrolled": true
   },
   "outputs": [
    {
     "name": "stdout",
     "output_type": "stream",
     "text": [
      "epoch 1, train_l 0.004008, val 0.004151,testl 0.007293, train_acc 0.8362, val_acc 0.8305, test_acc 0.7003\n",
      "epoch 2, train_l 0.002178, val 0.005778,testl 0.008244, train_acc 0.9186, val_acc 0.7959, test_acc 0.7073\n",
      "epoch 3, train_l 0.001624, val 0.006627,testl 0.008205, train_acc 0.9454, val_acc 0.7614, test_acc 0.7073\n",
      "epoch 4, train_l 0.001255, val 0.006946,testl 0.008444, train_acc 0.9497, val_acc 0.7598, test_acc 0.7422\n",
      "epoch 5, train_l 0.001074, val 0.006939,testl 0.008358, train_acc 0.9679, val_acc 0.7786, test_acc 0.7143\n",
      "epoch 6, train_l 0.000854, val 0.007250,testl 0.008677, train_acc 0.9722, val_acc 0.7614, test_acc 0.7317\n",
      "epoch 7, train_l 0.000719, val 0.008445,testl 0.009812, train_acc 0.9807, val_acc 0.7300, test_acc 0.7770\n",
      "epoch 8, train_l 0.000767, val 0.007720,testl 0.009587, train_acc 0.9797, val_acc 0.7551, test_acc 0.7387\n",
      "epoch 9, train_l 0.000608, val 0.008089,testl 0.009517, train_acc 0.9797, val_acc 0.7504, test_acc 0.7596\n",
      "epoch 10, train_l 0.000548, val 0.008128,testl 0.010180, train_acc 0.9872, val_acc 0.7520, test_acc 0.7561\n",
      "3.536083539326986\n"
     ]
    },
    {
     "data": {
      "image/png": "[encoded data removed]",
      "text/plain": [
       "<Figure size 432x288 with 1 Axes>"
      ]
     },
     "metadata": {
      "needs_background": "light"
     },
     "output_type": "display_data"
    }
   ],
   "source": [
    "num_epochs=10\n",
    "train_loss,val_loss,test_loss,train_acc_list,val_acc_list,test_acc_list=train(net, train_loader, val_loader, test_loader, loss, num_epochs,batch_size, lr=lr,optimizer=optimizer)\n",
    "x=np.linspace(0,len(train_loss),len(test_loss))\n",
    "plt.plot(x,train_loss,label=\"train_loss\",linewidth=1.5)\n",
    "plt.plot(x,val_loss,label=\"val_loss\",linewidth=1.5)\n",
    "plt.plot(x,test_loss,label=\"test_loss\",linewidth=1.5)\n",
    "plt.xlabel(\"epoch\")\n",
    "plt.ylabel(\"loss\")\n",
    "plt.legend()\n",
    "plt.show()"
   ]
  },
  {
   "cell_type": "code",
   "execution_count": 45,
   "metadata": {},
   "outputs": [
    {
     "data": {
      "image/png": "[encoded data removed]",
      "text/plain": [
       "<Figure size 432x288 with 1 Axes>"
      ]
     },
     "metadata": {
      "needs_background": "light"
     },
     "output_type": "display_data"
    }
   ],
   "source": [
    "x=np.linspace(0,len(train_acc_list),len(test_acc_list))\n",
    "plt.plot(x,train_acc_list,label=\"train_acc\",linewidth=1.5)\n",
    "plt.plot(x,val_acc_list,label=\"val_acc\",linewidth=1.5)\n",
    "plt.plot(x,test_acc_list,label=\"test_acc\",linewidth=1.5)\n",
    "plt.xlabel(\"epoch\")\n",
    "plt.ylabel(\"acc\")\n",
    "plt.legend()\n",
    "plt.show()"
   ]
  },
  {
   "cell_type": "code",
   "execution_count": null,
   "metadata": {},
   "outputs": [],
   "source": []
  }
 ],
 "metadata": {
  "kernelspec": {
   "display_name": "Python 3",
   "language": "python",
   "name": "python3"
  },
  "language_info": {
   "codemirror_mode": {
    "name": "ipython",
    "version": 3
   },
   "file_extension": ".py",
   "mimetype": "text/x-python",
   "name": "python",
   "nbconvert_exporter": "python",
   "pygments_lexer": "ipython3",
   "version": "3.7.3"
  }
 },
 "nbformat": 4,
 "nbformat_minor": 2
}
