{
 "cells": [
  {
   "cell_type": "markdown",
   "metadata": {},
   "source": [
    "# CNN实现跌倒检测"
   ]
  },
  {
   "cell_type": "code",
   "execution_count": 1,
   "metadata": {},
   "outputs": [],
   "source": [
    "import os\n",
    "import torch\n",
    "from torch.utils import data\n",
    "from PIL import Image\n",
    "import numpy as np\n",
    "from torchvision import transforms,datasets\n",
    "import shutil\n",
    "from torch.nn import init\n",
    "import torch.nn.functional as F\n",
    "import matplotlib.pyplot as plt\n",
    "import time "
   ]
  },
  {
   "cell_type": "markdown",
   "metadata": {},
   "source": [
    "### 导入数据集"
   ]
  },
  {
   "cell_type": "code",
   "execution_count": 9,
   "metadata": {},
   "outputs": [],
   "source": [
    "transform = transforms.Compose([transforms.Resize(256),transforms.CenterCrop(224),transforms.ToTensor(),transforms.Normalize(mean=[.5, .5, .5], std=[.5, .5, .5])  ])"
   ]
  },
  {
   "cell_type": "code",
   "execution_count": 10,
   "metadata": {},
   "outputs": [],
   "source": [
    "train_dataset=datasets.ImageFolder('C:/Users/Desktop/20230511_code/dataset/dataset/train',transform=transform)\n",
    "val_dataset=datasets.ImageFolder('C:/Users/Desktop/20230511_code/dataset/dataset/val',transform=transform)\n",
    "test_dataset=datasets.ImageFolder('C:/Users/Desktop/20230511_code/dataset/dataset/test',transform=transform)"
   ]
  },
  {
   "cell_type": "code",
   "execution_count": 11,
   "metadata": {},
   "outputs": [],
   "source": [
    "batch_size=100\n",
    "train_loader = torch.utils.data.DataLoader(train_dataset, batch_size=batch_size, shuffle=True, num_workers=0)\n",
    "val_loader = torch.utils.data.DataLoader(val_dataset, batch_size=batch_size, shuffle=True, num_workers=0)\n",
    "test_loader = torch.utils.data.DataLoader(test_dataset, batch_size=batch_size, shuffle=True, num_workers=0)"
   ]
  },
  {
   "cell_type": "markdown",
   "metadata": {},
   "source": [
    "### 定义模型"
   ]
  },
  {
   "cell_type": "code",
   "execution_count": 12,
   "metadata": {},
   "outputs": [],
   "source": [
    "class MyConvModule(torch.nn.Module):\n",
    "    def __init__(self):\n",
    "        super(MyConvModule,self).__init__()\n",
    "        self.conv1=torch.nn.Sequential(torch.nn.Conv2d(in_channels=3,out_channels=6,kernel_size=5),\n",
    "                                     torch.nn.BatchNorm2d(6),\n",
    "                                     torch.nn.ReLU(inplace=True))\n",
    "        self.maxpool=torch.nn.MaxPool2d(2, 2)\n",
    "        self.conv2=torch.nn.Sequential(torch.nn.Conv2d(in_channels=6,out_channels=16,kernel_size=5),\n",
    "                                     torch.nn.BatchNorm2d(16),\n",
    "                                     torch.nn.ReLU(inplace=True))\n",
    "        self.fc1=torch.nn.Linear(16*53*53,1024)\n",
    "        self.fc2=torch.nn.Linear(1024,512)\n",
    "        self.fc3=torch.nn.Linear(512,3)\n",
    "        \n",
    "    def forward(self,X):\n",
    "        X=self.conv1(X)\n",
    "        X=self.maxpool(X)\n",
    "        X=self.conv2(X)\n",
    "        X=self.maxpool(X)\n",
    "        X=X.view(-1,16*53*53)\n",
    "        X=F.relu(self.fc1(X))\n",
    "        X=F.relu(self.fc2(X))\n",
    "        X=self.fc3(X)\n",
    "        return X"
   ]
  },
  {
   "cell_type": "markdown",
   "metadata": {},
   "source": [
    "### 定义训练模型函数"
   ]
  },
  {
   "cell_type": "code",
   "execution_count": 24,
   "metadata": {},
   "outputs": [],
   "source": [
    "def train(net,data_loader):\n",
    "    net.train()\n",
    "    train_batch_num=len(data_loader)\n",
    "    total_loss=0\n",
    "    correct=0\n",
    "    sample_num=0\n",
    "    for batch_idx,(data,target) in enumerate(data_loader):\n",
    "        optimizer.zero_grad()\n",
    "        output=net(data)\n",
    "        loss=criterion(output,target)\n",
    "        loss.backward()\n",
    "        optimizer.step()\n",
    "        total_loss+=loss.item()\n",
    "        prediction=torch.argmax(output,1)\n",
    "        correct+=(prediction==target).sum().item()\n",
    "        sample_num+=len(prediction)\n",
    "    loss=total_loss/train_batch_num\n",
    "    acc=correct/sample_num\n",
    "    return loss,acc"
   ]
  },
  {
   "cell_type": "markdown",
   "metadata": {},
   "source": [
    "### 定义测试模型函数"
   ]
  },
  {
   "cell_type": "code",
   "execution_count": 25,
   "metadata": {},
   "outputs": [],
   "source": [
    "def test(net,data_loader):\n",
    "    net.eval()\n",
    "    test_batch_num=len(data_loader)\n",
    "    total_loss=0\n",
    "    correct=0\n",
    "    sample_num=0\n",
    "    for batch_idx,(data,target) in enumerate(data_loader):\n",
    "        output=net(data)\n",
    "        loss=criterion(output,target)\n",
    "        total_loss+=loss.item()\n",
    "        prediction=torch.argmax(output,1)\n",
    "        correct+=(prediction==target).sum().item()\n",
    "        sample_num+=len(prediction)\n",
    "    loss=total_loss/test_batch_num\n",
    "    acc=correct/sample_num\n",
    "    return loss,acc"
   ]
  },
  {
   "cell_type": "markdown",
   "metadata": {},
   "source": [
    "### 定义损失函数与优化器"
   ]
  },
  {
   "cell_type": "code",
   "execution_count": 26,
   "metadata": {},
   "outputs": [
    {
     "name": "stdout",
     "output_type": "stream",
     "text": [
      "MyConvModule(\n",
      "  (conv1): Sequential(\n",
      "    (0): Conv2d(3, 6, kernel_size=(5, 5), stride=(1, 1))\n",
      "    (1): BatchNorm2d(6, eps=1e-05, momentum=0.1, affine=True, track_running_stats=True)\n",
      "    (2): ReLU(inplace=True)\n",
      "  )\n",
      "  (maxpool): MaxPool2d(kernel_size=2, stride=2, padding=0, dilation=1, ceil_mode=False)\n",
      "  (conv2): Sequential(\n",
      "    (0): Conv2d(6, 16, kernel_size=(5, 5), stride=(1, 1))\n",
      "    (1): BatchNorm2d(16, eps=1e-05, momentum=0.1, affine=True, track_running_stats=True)\n",
      "    (2): ReLU(inplace=True)\n",
      "  )\n",
      "  (fc1): Linear(in_features=44944, out_features=1024, bias=True)\n",
      "  (fc2): Linear(in_features=1024, out_features=512, bias=True)\n",
      "  (fc3): Linear(in_features=512, out_features=3, bias=True)\n",
      ")\n"
     ]
    }
   ],
   "source": [
    "net=MyConvModule()\n",
    "print(net)\n",
    "optimizer = torch.optim.Adam(net.parameters(), lr=1e-5)\n",
    "criterion=torch.nn.CrossEntropyLoss()"
   ]
  },
  {
   "cell_type": "markdown",
   "metadata": {},
   "source": [
    "### 进行迭代"
   ]
  },
  {
   "cell_type": "code",
   "execution_count": 27,
   "metadata": {
    "scrolled": true
   },
   "outputs": [
    {
     "name": "stdout",
     "output_type": "stream",
     "text": [
      "epoch: 0 \t train_loss: 0.6295\t train_acc: 0.7901498929336188\t val_loss: 0.7586\t val_acc:0.7912087912087912 test_loss: 0.8331\t test_acc:0.6689895470383276\n",
      "epoch: 1 \t train_loss: 0.2185\t train_acc: 0.9379014989293362\t val_loss: 0.5320\t val_acc:0.7912087912087912 test_loss: 0.7188\t test_acc:0.6689895470383276\n",
      "epoch: 2 \t train_loss: 0.1230\t train_acc: 0.9571734475374732\t val_loss: 0.5945\t val_acc:0.7912087912087912 test_loss: 0.8588\t test_acc:0.6689895470383276\n",
      "epoch: 3 \t train_loss: 0.0825\t train_acc: 0.9775160599571735\t val_loss: 0.4545\t val_acc:0.8178963893249608 test_loss: 0.6227\t test_acc:0.6376306620209059\n",
      "epoch: 4 \t train_loss: 0.0619\t train_acc: 0.9796573875802997\t val_loss: 0.5306\t val_acc:0.7864992150706437 test_loss: 0.6662\t test_acc:0.6480836236933798\n",
      "epoch: 5 \t train_loss: 0.0596\t train_acc: 0.9807280513918629\t val_loss: 0.5491\t val_acc:0.7660910518053375 test_loss: 0.6393\t test_acc:0.7526132404181185\n",
      "epoch: 6 \t train_loss: 0.0502\t train_acc: 0.9828693790149893\t val_loss: 0.6003\t val_acc:0.7708006279434851 test_loss: 0.6392\t test_acc:0.7665505226480837\n",
      "epoch: 7 \t train_loss: 0.0433\t train_acc: 0.9892933618843683\t val_loss: 0.6446\t val_acc:0.7692307692307693 test_loss: 0.7158\t test_acc:0.759581881533101\n",
      "epoch: 8 \t train_loss: 0.0396\t train_acc: 0.9892933618843683\t val_loss: 0.6175\t val_acc:0.783359497645212 test_loss: 0.7167\t test_acc:0.7665505226480837\n",
      "epoch: 9 \t train_loss: 0.0428\t train_acc: 0.987152034261242\t val_loss: 0.6780\t val_acc:0.7770800627943485 test_loss: 0.7273\t test_acc:0.7700348432055749\n"
     ]
    }
   ],
   "source": [
    "epoch=10\n",
    "train_loss_list=[]\n",
    "train_acc_list=[]\n",
    "val_loss_list=[]\n",
    "val_acc_list=[]\n",
    "test_loss_list=[]\n",
    "test_acc_list=[]\n",
    "since=time.time()\n",
    "for epoch in range(epoch):\n",
    "    train_loss,train_acc=train(net,train_loader)\n",
    "    val_loss,val_acc=test(net,val_loader)\n",
    "    test_loss,test_acc=test(net,test_loader)\n",
    "    train_loss_list.append(train_loss)\n",
    "    train_acc_list.append(train_acc)\n",
    "    val_loss_list.append(val_loss)\n",
    "    val_acc_list.append(val_acc)\n",
    "    test_loss_list.append(test_loss)\n",
    "    test_acc_list.append(test_acc)\n",
    "    print(f\"epoch: {epoch} \\t train_loss: {train_loss:.4f}\\t\"\n",
    "          f\" train_acc: {train_acc}\\t\"\n",
    "          f\" val_loss: {val_loss:.4f}\\t val_acc:{val_acc}\"\n",
    "          f\" test_loss: {test_loss:.4f}\\t test_acc:{test_acc}\")\n",
    "time_elapsed=(time.time()-since)/60"
   ]
  },
  {
   "cell_type": "markdown",
   "metadata": {},
   "source": [
    "### 计算迭代时间"
   ]
  },
  {
   "cell_type": "code",
   "execution_count": 31,
   "metadata": {},
   "outputs": [
    {
     "data": {
      "text/plain": [
       "3.182254195213318"
      ]
     },
     "execution_count": 31,
     "metadata": {},
     "output_type": "execute_result"
    }
   ],
   "source": [
    "time_elapsed"
   ]
  },
  {
   "cell_type": "markdown",
   "metadata": {},
   "source": [
    "### 绘制训练集与测试集的loss曲线与精度曲线"
   ]
  },
  {
   "cell_type": "code",
   "execution_count": 32,
   "metadata": {},
   "outputs": [
    {
     "data": {
      "image/png": "[encoded data removed]",
      "text/plain": [
       "<Figure size 432x288 with 1 Axes>"
      ]
     },
     "metadata": {
      "needs_background": "light"
     },
     "output_type": "display_data"
    }
   ],
   "source": [
    "x=np.linspace(0,len(train_loss_list),len(test_loss_list))\n",
    "plt.plot(x,train_loss_list,label=\"train_loss\",linewidth=1.5)\n",
    "plt.plot(x,val_loss_list,label=\"val_loss\",linewidth=1.5)\n",
    "plt.plot(x,test_loss_list,label=\"test_loss\",linewidth=1.5)\n",
    "plt.xlabel(\"epoch\")\n",
    "plt.ylabel(\"loss\")\n",
    "plt.legend()\n",
    "plt.show()"
   ]
  },
  {
   "cell_type": "code",
   "execution_count": 33,
   "metadata": {},
   "outputs": [
    {
     "data": {
      "image/png": "[encoded data removed]",
      "text/plain": [
       "<Figure size 432x288 with 1 Axes>"
      ]
     },
     "metadata": {
      "needs_background": "light"
     },
     "output_type": "display_data"
    }
   ],
   "source": [
    "x=np.linspace(0,len(train_acc_list),len(test_acc_list))\n",
    "plt.plot(x,train_acc_list,label=\"train_acc\",linewidth=1.5)\n",
    "plt.plot(x,val_acc_list,label=\"val_acc\",linewidth=1.5)\n",
    "plt.plot(x,test_acc_list,label=\"test_acc\",linewidth=1.5)\n",
    "plt.xlabel(\"epoch\")\n",
    "plt.ylabel(\"acc\")\n",
    "plt.legend()\n",
    "plt.show()"
   ]
  },
  {
   "cell_type": "markdown",
   "metadata": {},
   "source": [
    "## 不同超参数对比\n",
    "### 改变卷积层数（一层）"
   ]
  },
  {
   "cell_type": "code",
   "execution_count": 50,
   "metadata": {},
   "outputs": [],
   "source": [
    "transform = transforms.Compose([transforms.Resize(256),transforms.CenterCrop(224),transforms.ToTensor(),transforms.Normalize(mean=[.5, .5, .5], std=[.5, .5, .5])  ])"
   ]
  },
  {
   "cell_type": "code",
   "execution_count": 51,
   "metadata": {},
   "outputs": [],
   "source": [
    "train_dataset=datasets.ImageFolder('C:/Users/Desktop/20230511_code/dataset/dataset/train',transform=transform)\n",
    "val_dataset=datasets.ImageFolder('C:/Users/Desktop/20230511_code/dataset/dataset/val',transform=transform)\n",
    "test_dataset=datasets.ImageFolder('C:/Users/Desktop/20230511_code/dataset/dataset/test',transform=transform)"
   ]
  },
  {
   "cell_type": "code",
   "execution_count": 52,
   "metadata": {},
   "outputs": [],
   "source": [
    "batch_size=100\n",
    "train_loader = torch.utils.data.DataLoader(train_dataset, batch_size=batch_size, shuffle=True, num_workers=0)\n",
    "val_loader = torch.utils.data.DataLoader(val_dataset, batch_size=batch_size, shuffle=True, num_workers=0)\n",
    "test_loader = torch.utils.data.DataLoader(test_dataset, batch_size=batch_size, shuffle=True, num_workers=0)"
   ]
  },
  {
   "cell_type": "code",
   "execution_count": 53,
   "metadata": {},
   "outputs": [],
   "source": [
    "class MyConvModule(torch.nn.Module):\n",
    "    def __init__(self):\n",
    "        super(MyConvModule,self).__init__()\n",
    "        self.conv1=torch.nn.Sequential(torch.nn.Conv2d(in_channels=3,out_channels=32,kernel_size=11),\n",
    "                                     torch.nn.BatchNorm2d(32),\n",
    "                                     torch.nn.ReLU(inplace=True))\n",
    "        self.maxpool=torch.nn.MaxPool2d(10, 4)\n",
    "        self.fc1=torch.nn.Linear(32*52*52,1024)\n",
    "        self.fc2=torch.nn.Linear(1024,512)\n",
    "        self.fc3=torch.nn.Linear(512,3)\n",
    "        \n",
    "    def forward(self,X):\n",
    "        X=self.conv1(X)\n",
    "        X=self.maxpool(X)\n",
    "        X=X.view(-1,32*52*52)\n",
    "        X=F.relu(self.fc1(X))\n",
    "        X=F.relu(self.fc2(X))\n",
    "        X=self.fc3(X)\n",
    "        return X"
   ]
  },
  {
   "cell_type": "code",
   "execution_count": 54,
   "metadata": {},
   "outputs": [],
   "source": [
    "def train(net,data_loader):\n",
    "    net.train()\n",
    "    train_batch_num=len(data_loader)\n",
    "    total_loss=0\n",
    "    correct=0\n",
    "    sample_num=0\n",
    "    for batch_idx,(data,target) in enumerate(data_loader):\n",
    "        optimizer.zero_grad()\n",
    "        output=net(data)\n",
    "        loss=criterion(output,target)\n",
    "        loss.backward()\n",
    "        optimizer.step()\n",
    "        total_loss+=loss.item()\n",
    "        prediction=torch.argmax(output,1)\n",
    "        correct+=(prediction==target).sum().item()\n",
    "        sample_num+=len(prediction)\n",
    "    loss=total_loss/train_batch_num\n",
    "    acc=correct/sample_num\n",
    "    return loss,acc"
   ]
  },
  {
   "cell_type": "code",
   "execution_count": 55,
   "metadata": {},
   "outputs": [],
   "source": [
    "def test(net,data_loader):\n",
    "    net.eval()\n",
    "    test_batch_num=len(data_loader)\n",
    "    total_loss=0\n",
    "    correct=0\n",
    "    sample_num=0\n",
    "    for batch_idx,(data,target) in enumerate(data_loader):\n",
    "        output=net(data)\n",
    "        loss=criterion(output,target)\n",
    "        total_loss+=loss.item()\n",
    "        prediction=torch.argmax(output,1)\n",
    "        correct+=(prediction==target).sum().item()\n",
    "        sample_num+=len(prediction)\n",
    "    loss=total_loss/test_batch_num\n",
    "    acc=correct/sample_num\n",
    "    return loss,acc"
   ]
  },
  {
   "cell_type": "code",
   "execution_count": 56,
   "metadata": {},
   "outputs": [
    {
     "name": "stdout",
     "output_type": "stream",
     "text": [
      "MyConvModule(\n",
      "  (conv1): Sequential(\n",
      "    (0): Conv2d(3, 32, kernel_size=(11, 11), stride=(1, 1))\n",
      "    (1): BatchNorm2d(32, eps=1e-05, momentum=0.1, affine=True, track_running_stats=True)\n",
      "    (2): ReLU(inplace=True)\n",
      "  )\n",
      "  (maxpool): MaxPool2d(kernel_size=10, stride=4, padding=0, dilation=1, ceil_mode=False)\n",
      "  (fc1): Linear(in_features=86528, out_features=1024, bias=True)\n",
      "  (fc2): Linear(in_features=1024, out_features=512, bias=True)\n",
      "  (fc3): Linear(in_features=512, out_features=3, bias=True)\n",
      ")\n"
     ]
    }
   ],
   "source": [
    "net=MyConvModule()\n",
    "print(net)\n",
    "optimizer = torch.optim.Adam(net.parameters(), lr=1e-5)\n",
    "criterion=torch.nn.CrossEntropyLoss()"
   ]
  },
  {
   "cell_type": "code",
   "execution_count": 57,
   "metadata": {
    "scrolled": true
   },
   "outputs": [
    {
     "name": "stdout",
     "output_type": "stream",
     "text": [
      "epoch: 0 \t train_loss: 0.4753\t train_acc: 0.7922912205567452\t val_loss: 0.5473\t val_acc:0.7912087912087912 test_loss: 0.7551\t test_acc:0.6689895470383276\n",
      "epoch: 1 \t train_loss: 0.1530\t train_acc: 0.9400428265524625\t val_loss: 0.5168\t val_acc:0.7786499215070644 test_loss: 0.6158\t test_acc:0.6236933797909407\n",
      "epoch: 2 \t train_loss: 0.0946\t train_acc: 0.9732334047109208\t val_loss: 0.5640\t val_acc:0.7817896389324961 test_loss: 0.5954\t test_acc:0.6724738675958188\n",
      "epoch: 3 \t train_loss: 0.0590\t train_acc: 0.9796573875802997\t val_loss: 0.6924\t val_acc:0.7802197802197802 test_loss: 0.6377\t test_acc:0.735191637630662\n",
      "epoch: 4 \t train_loss: 0.0620\t train_acc: 0.9764453961456103\t val_loss: 0.7435\t val_acc:0.7629513343799058 test_loss: 0.7603\t test_acc:0.7456445993031359\n",
      "epoch: 5 \t train_loss: 0.0599\t train_acc: 0.9796573875802997\t val_loss: 0.8182\t val_acc:0.728414442700157 test_loss: 0.8664\t test_acc:0.7630662020905923\n",
      "epoch: 6 \t train_loss: 0.0519\t train_acc: 0.9807280513918629\t val_loss: 0.8862\t val_acc:0.7315541601255887 test_loss: 0.9201\t test_acc:0.7386759581881533\n",
      "epoch: 7 \t train_loss: 0.0439\t train_acc: 0.9882226980728052\t val_loss: 0.9722\t val_acc:0.7441130298273155 test_loss: 0.8795\t test_acc:0.7421602787456446\n",
      "epoch: 8 \t train_loss: 0.0630\t train_acc: 0.9839400428265525\t val_loss: 1.0723\t val_acc:0.7017268445839875 test_loss: 0.9953\t test_acc:0.7282229965156795\n",
      "epoch: 9 \t train_loss: 0.0554\t train_acc: 0.9775160599571735\t val_loss: 1.1888\t val_acc:0.6546310832025117 test_loss: 1.2137\t test_acc:0.7142857142857143\n"
     ]
    }
   ],
   "source": [
    "epoch=10\n",
    "train_loss_list=[]\n",
    "train_acc_list=[]\n",
    "val_loss_list=[]\n",
    "val_acc_list=[]\n",
    "test_loss_list=[]\n",
    "test_acc_list=[]\n",
    "since=time.time()\n",
    "for epoch in range(epoch):\n",
    "    train_loss,train_acc=train(net,train_loader)\n",
    "    val_loss,val_acc=test(net,val_loader)\n",
    "    test_loss,test_acc=test(net,test_loader)\n",
    "    train_loss_list.append(train_loss)\n",
    "    train_acc_list.append(train_acc)\n",
    "    val_loss_list.append(val_loss)\n",
    "    val_acc_list.append(val_acc)\n",
    "    test_loss_list.append(test_loss)\n",
    "    test_acc_list.append(test_acc)\n",
    "    print(f\"epoch: {epoch} \\t train_loss: {train_loss:.4f}\\t\"\n",
    "          f\" train_acc: {train_acc}\\t\"\n",
    "          f\" val_loss: {val_loss:.4f}\\t val_acc:{val_acc}\"\n",
    "          f\" test_loss: {test_loss:.4f}\\t test_acc:{test_acc}\")\n",
    "time_elapsed=(time.time()-since)/60"
   ]
  },
  {
   "cell_type": "code",
   "execution_count": 58,
   "metadata": {},
   "outputs": [
    {
     "data": {
      "text/plain": [
       "6.565139667193095"
      ]
     },
     "execution_count": 58,
     "metadata": {},
     "output_type": "execute_result"
    }
   ],
   "source": [
    "time_elapsed"
   ]
  },
  {
   "cell_type": "code",
   "execution_count": 59,
   "metadata": {},
   "outputs": [
    {
     "data": {
      "image/png": "[encoded data removed]",
      "text/plain": [
       "<Figure size 432x288 with 1 Axes>"
      ]
     },
     "metadata": {
      "needs_background": "light"
     },
     "output_type": "display_data"
    }
   ],
   "source": [
    "x=np.linspace(0,len(train_loss_list),len(test_loss_list))\n",
    "plt.plot(x,train_loss_list,label=\"train_loss\",linewidth=1.5)\n",
    "plt.plot(x,val_loss_list,label=\"val_loss\",linewidth=1.5)\n",
    "plt.plot(x,test_loss_list,label=\"test_loss\",linewidth=1.5)\n",
    "plt.xlabel(\"epoch\")\n",
    "plt.ylabel(\"loss\")\n",
    "plt.legend()\n",
    "plt.show()"
   ]
  },
  {
   "cell_type": "code",
   "execution_count": 60,
   "metadata": {},
   "outputs": [
    {
     "data": {
      "image/png": "[encoded data removed]",
      "text/plain": [
       "<Figure size 432x288 with 1 Axes>"
      ]
     },
     "metadata": {
      "needs_background": "light"
     },
     "output_type": "display_data"
    }
   ],
   "source": [
    "x=np.linspace(0,len(train_acc_list),len(test_acc_list))\n",
    "plt.plot(x,train_acc_list,label=\"train_acc\",linewidth=1.5)\n",
    "plt.plot(x,val_acc_list,label=\"val_acc\",linewidth=1.5)\n",
    "plt.plot(x,test_acc_list,label=\"test_acc\",linewidth=1.5)\n",
    "plt.xlabel(\"epoch\")\n",
    "plt.ylabel(\"acc\")\n",
    "plt.legend()\n",
    "plt.show()"
   ]
  },
  {
   "cell_type": "markdown",
   "metadata": {},
   "source": [
    "## 不同超参数对比\n",
    "### 改变学习率 1e-4"
   ]
  },
  {
   "cell_type": "code",
   "execution_count": 61,
   "metadata": {},
   "outputs": [],
   "source": [
    "transform = transforms.Compose([transforms.Resize(256),transforms.CenterCrop(224),transforms.ToTensor(),transforms.Normalize(mean=[.5, .5, .5], std=[.5, .5, .5])  ])"
   ]
  },
  {
   "cell_type": "code",
   "execution_count": 62,
   "metadata": {},
   "outputs": [],
   "source": [
    "train_dataset=datasets.ImageFolder('C:/Users/Desktop/20230511_code/dataset/dataset/train',transform=transform)\n",
    "val_dataset=datasets.ImageFolder('C:/Users/Desktop/20230511_code/dataset/dataset/val',transform=transform)\n",
    "test_dataset=datasets.ImageFolder('C:/Users/Desktop/20230511_code/dataset/dataset/test',transform=transform)"
   ]
  },
  {
   "cell_type": "code",
   "execution_count": 63,
   "metadata": {},
   "outputs": [],
   "source": [
    "batch_size=100\n",
    "train_loader = torch.utils.data.DataLoader(train_dataset, batch_size=batch_size, shuffle=True, num_workers=0)\n",
    "val_loader = torch.utils.data.DataLoader(val_dataset, batch_size=batch_size, shuffle=True, num_workers=0)\n",
    "test_loader = torch.utils.data.DataLoader(test_dataset, batch_size=batch_size, shuffle=True, num_workers=0)"
   ]
  },
  {
   "cell_type": "code",
   "execution_count": 64,
   "metadata": {},
   "outputs": [],
   "source": [
    "class MyConvModule(torch.nn.Module):\n",
    "    def __init__(self):\n",
    "        super(MyConvModule,self).__init__()\n",
    "        self.conv1=torch.nn.Sequential(torch.nn.Conv2d(in_channels=3,out_channels=6,kernel_size=5),\n",
    "                                     torch.nn.BatchNorm2d(6),\n",
    "                                     torch.nn.ReLU(inplace=True))\n",
    "        self.maxpool=torch.nn.MaxPool2d(2, 2)\n",
    "        self.conv2=torch.nn.Sequential(torch.nn.Conv2d(in_channels=6,out_channels=16,kernel_size=5),\n",
    "                                     torch.nn.BatchNorm2d(16),\n",
    "                                     torch.nn.ReLU(inplace=True))\n",
    "        self.fc1=torch.nn.Linear(16*53*53,1024)\n",
    "        self.fc2=torch.nn.Linear(1024,512)\n",
    "        self.fc3=torch.nn.Linear(512,3)\n",
    "        \n",
    "    def forward(self,X):\n",
    "        X=self.conv1(X)\n",
    "        X=self.maxpool(X)\n",
    "        X=self.conv2(X)\n",
    "        X=self.maxpool(X)\n",
    "        X=X.view(-1,16*53*53)\n",
    "        X=F.relu(self.fc1(X))\n",
    "        X=F.relu(self.fc2(X))\n",
    "        X=self.fc3(X)\n",
    "        return X"
   ]
  },
  {
   "cell_type": "code",
   "execution_count": 65,
   "metadata": {},
   "outputs": [],
   "source": [
    "def train(net,data_loader):\n",
    "    net.train()\n",
    "    train_batch_num=len(data_loader)\n",
    "    total_loss=0\n",
    "    correct=0\n",
    "    sample_num=0\n",
    "    for batch_idx,(data,target) in enumerate(data_loader):\n",
    "        optimizer.zero_grad()\n",
    "        output=net(data)\n",
    "        loss=criterion(output,target)\n",
    "        loss.backward()\n",
    "        optimizer.step()\n",
    "        total_loss+=loss.item()\n",
    "        prediction=torch.argmax(output,1)\n",
    "        correct+=(prediction==target).sum().item()\n",
    "        sample_num+=len(prediction)\n",
    "    loss=total_loss/train_batch_num\n",
    "    acc=correct/sample_num\n",
    "    return loss,acc"
   ]
  },
  {
   "cell_type": "code",
   "execution_count": 66,
   "metadata": {},
   "outputs": [],
   "source": [
    "def test(net,data_loader):\n",
    "    net.eval()\n",
    "    test_batch_num=len(data_loader)\n",
    "    total_loss=0\n",
    "    correct=0\n",
    "    sample_num=0\n",
    "    for batch_idx,(data,target) in enumerate(data_loader):\n",
    "        output=net(data)\n",
    "        loss=criterion(output,target)\n",
    "        total_loss+=loss.item()\n",
    "        prediction=torch.argmax(output,1)\n",
    "        correct+=(prediction==target).sum().item()\n",
    "        sample_num+=len(prediction)\n",
    "    loss=total_loss/test_batch_num\n",
    "    acc=correct/sample_num\n",
    "    return loss,acc"
   ]
  },
  {
   "cell_type": "code",
   "execution_count": 67,
   "metadata": {},
   "outputs": [
    {
     "name": "stdout",
     "output_type": "stream",
     "text": [
      "MyConvModule(\n",
      "  (conv1): Sequential(\n",
      "    (0): Conv2d(3, 6, kernel_size=(5, 5), stride=(1, 1))\n",
      "    (1): BatchNorm2d(6, eps=1e-05, momentum=0.1, affine=True, track_running_stats=True)\n",
      "    (2): ReLU(inplace=True)\n",
      "  )\n",
      "  (maxpool): MaxPool2d(kernel_size=2, stride=2, padding=0, dilation=1, ceil_mode=False)\n",
      "  (conv2): Sequential(\n",
      "    (0): Conv2d(6, 16, kernel_size=(5, 5), stride=(1, 1))\n",
      "    (1): BatchNorm2d(16, eps=1e-05, momentum=0.1, affine=True, track_running_stats=True)\n",
      "    (2): ReLU(inplace=True)\n",
      "  )\n",
      "  (fc1): Linear(in_features=44944, out_features=1024, bias=True)\n",
      "  (fc2): Linear(in_features=1024, out_features=512, bias=True)\n",
      "  (fc3): Linear(in_features=512, out_features=3, bias=True)\n",
      ")\n"
     ]
    }
   ],
   "source": [
    "net=MyConvModule()\n",
    "print(net)\n",
    "optimizer = torch.optim.Adam(net.parameters(), lr=1e-4)\n",
    "criterion=torch.nn.CrossEntropyLoss()"
   ]
  },
  {
   "cell_type": "code",
   "execution_count": 68,
   "metadata": {
    "scrolled": true
   },
   "outputs": [
    {
     "name": "stdout",
     "output_type": "stream",
     "text": [
      "epoch: 0 \t train_loss: 0.3235\t train_acc: 0.8394004282655246\t val_loss: 0.4792\t val_acc:0.7912087912087912 test_loss: 0.6163\t test_acc:0.6689895470383276\n",
      "epoch: 1 \t train_loss: 0.0802\t train_acc: 0.9657387580299786\t val_loss: 0.9798\t val_acc:0.7912087912087912 test_loss: 1.4046\t test_acc:0.6689895470383276\n",
      "epoch: 2 \t train_loss: 0.0423\t train_acc: 0.9807280513918629\t val_loss: 0.9179\t val_acc:0.8210361067503925 test_loss: 1.0837\t test_acc:0.7003484320557491\n",
      "epoch: 3 \t train_loss: 0.0355\t train_acc: 0.9860813704496788\t val_loss: 0.5533\t val_acc:0.8351648351648352 test_loss: 0.4858\t test_acc:0.8327526132404182\n",
      "epoch: 4 \t train_loss: 0.0240\t train_acc: 0.9903640256959315\t val_loss: 0.6685\t val_acc:0.8021978021978022 test_loss: 0.5602\t test_acc:0.8222996515679443\n",
      "epoch: 5 \t train_loss: 0.0499\t train_acc: 0.9839400428265525\t val_loss: 1.5058\t val_acc:0.6797488226059655 test_loss: 1.2497\t test_acc:0.8083623693379791\n",
      "epoch: 6 \t train_loss: 0.0877\t train_acc: 0.9668094218415417\t val_loss: 1.5275\t val_acc:0.6891679748822606 test_loss: 1.1321\t test_acc:0.7735191637630662\n",
      "epoch: 7 \t train_loss: 0.0450\t train_acc: 0.9785867237687366\t val_loss: 0.9529\t val_acc:0.7582417582417582 test_loss: 0.7060\t test_acc:0.8257839721254355\n",
      "epoch: 8 \t train_loss: 0.0367\t train_acc: 0.9860813704496788\t val_loss: 0.7787\t val_acc:0.8037676609105181 test_loss: 0.5873\t test_acc:0.8048780487804879\n",
      "epoch: 9 \t train_loss: 0.0469\t train_acc: 0.9817987152034261\t val_loss: 0.9234\t val_acc:0.8163265306122449 test_loss: 0.5940\t test_acc:0.8257839721254355\n"
     ]
    }
   ],
   "source": [
    "epoch=10\n",
    "train_loss_list=[]\n",
    "train_acc_list=[]\n",
    "val_loss_list=[]\n",
    "val_acc_list=[]\n",
    "test_loss_list=[]\n",
    "test_acc_list=[]\n",
    "since=time.time()\n",
    "for epoch in range(epoch):\n",
    "    train_loss,train_acc=train(net,train_loader)\n",
    "    val_loss,val_acc=test(net,val_loader)\n",
    "    test_loss,test_acc=test(net,test_loader)\n",
    "    train_loss_list.append(train_loss)\n",
    "    train_acc_list.append(train_acc)\n",
    "    val_loss_list.append(val_loss)\n",
    "    val_acc_list.append(val_acc)\n",
    "    test_loss_list.append(test_loss)\n",
    "    test_acc_list.append(test_acc)\n",
    "    print(f\"epoch: {epoch} \\t train_loss: {train_loss:.4f}\\t\"\n",
    "          f\" train_acc: {train_acc}\\t\"\n",
    "          f\" val_loss: {val_loss:.4f}\\t val_acc:{val_acc}\"\n",
    "          f\" test_loss: {test_loss:.4f}\\t test_acc:{test_acc}\")\n",
    "time_elapsed=(time.time()-since)/60"
   ]
  },
  {
   "cell_type": "code",
   "execution_count": 69,
   "metadata": {},
   "outputs": [
    {
     "data": {
      "text/plain": [
       "2.929544138908386"
      ]
     },
     "execution_count": 69,
     "metadata": {},
     "output_type": "execute_result"
    }
   ],
   "source": [
    "time_elapsed"
   ]
  },
  {
   "cell_type": "code",
   "execution_count": 70,
   "metadata": {},
   "outputs": [
    {
     "data": {
      "image/png": "[encoded data removed]",
      "text/plain": [
       "<Figure size 432x288 with 1 Axes>"
      ]
     },
     "metadata": {
      "needs_background": "light"
     },
     "output_type": "display_data"
    }
   ],
   "source": [
    "x=np.linspace(0,len(train_loss_list),len(test_loss_list))\n",
    "plt.plot(x,train_loss_list,label=\"train_loss\",linewidth=1.5)\n",
    "plt.plot(x,val_loss_list,label=\"val_loss\",linewidth=1.5)\n",
    "plt.plot(x,test_loss_list,label=\"test_loss\",linewidth=1.5)\n",
    "plt.xlabel(\"epoch\")\n",
    "plt.ylabel(\"loss\")\n",
    "plt.legend()\n",
    "plt.show()"
   ]
  },
  {
   "cell_type": "code",
   "execution_count": 71,
   "metadata": {},
   "outputs": [
    {
     "data": {
      "image/png": "[encoded data removed]",
      "text/plain": [
       "<Figure size 432x288 with 1 Axes>"
      ]
     },
     "metadata": {
      "needs_background": "light"
     },
     "output_type": "display_data"
    }
   ],
   "source": [
    "x=np.linspace(0,len(train_acc_list),len(test_acc_list))\n",
    "plt.plot(x,train_acc_list,label=\"train_acc\",linewidth=1.5)\n",
    "plt.plot(x,val_acc_list,label=\"val_acc\",linewidth=1.5)\n",
    "plt.plot(x,test_acc_list,label=\"test_acc\",linewidth=1.5)\n",
    "plt.xlabel(\"epoch\")\n",
    "plt.ylabel(\"acc\")\n",
    "plt.legend()\n",
    "plt.show()"
   ]
  },
  {
   "cell_type": "markdown",
   "metadata": {},
   "source": [
    "## 不同超参数对比\n",
    "### 改变学习率 1e-2"
   ]
  },
  {
   "cell_type": "code",
   "execution_count": 72,
   "metadata": {},
   "outputs": [],
   "source": [
    "transform = transforms.Compose([transforms.Resize(256),transforms.CenterCrop(224),transforms.ToTensor(),transforms.Normalize(mean=[.5, .5, .5], std=[.5, .5, .5])  ])"
   ]
  },
  {
   "cell_type": "code",
   "execution_count": 73,
   "metadata": {},
   "outputs": [],
   "source": [
    "train_dataset=datasets.ImageFolder('C:/Users/Desktop/20230511_code/dataset/dataset/train',transform=transform)\n",
    "val_dataset=datasets.ImageFolder('C:/Users/Desktop/20230511_code/dataset/dataset/val',transform=transform)\n",
    "test_dataset=datasets.ImageFolder('C:/Users/Desktop/20230511_code/dataset/dataset/test',transform=transform)"
   ]
  },
  {
   "cell_type": "code",
   "execution_count": 74,
   "metadata": {},
   "outputs": [],
   "source": [
    "batch_size=100\n",
    "train_loader = torch.utils.data.DataLoader(train_dataset, batch_size=batch_size, shuffle=True, num_workers=0)\n",
    "val_loader = torch.utils.data.DataLoader(val_dataset, batch_size=batch_size, shuffle=True, num_workers=0)\n",
    "test_loader = torch.utils.data.DataLoader(test_dataset, batch_size=batch_size, shuffle=True, num_workers=0)"
   ]
  },
  {
   "cell_type": "code",
   "execution_count": 75,
   "metadata": {},
   "outputs": [],
   "source": [
    "class MyConvModule(torch.nn.Module):\n",
    "    def __init__(self):\n",
    "        super(MyConvModule,self).__init__()\n",
    "        self.conv1=torch.nn.Sequential(torch.nn.Conv2d(in_channels=3,out_channels=6,kernel_size=5),\n",
    "                                     torch.nn.BatchNorm2d(6),\n",
    "                                     torch.nn.ReLU(inplace=True))\n",
    "        self.maxpool=torch.nn.MaxPool2d(2, 2)\n",
    "        self.conv2=torch.nn.Sequential(torch.nn.Conv2d(in_channels=6,out_channels=16,kernel_size=5),\n",
    "                                     torch.nn.BatchNorm2d(16),\n",
    "                                     torch.nn.ReLU(inplace=True))\n",
    "        self.fc1=torch.nn.Linear(16*53*53,1024)\n",
    "        self.fc2=torch.nn.Linear(1024,512)\n",
    "        self.fc3=torch.nn.Linear(512,3)\n",
    "        \n",
    "    def forward(self,X):\n",
    "        X=self.conv1(X)\n",
    "        X=self.maxpool(X)\n",
    "        X=self.conv2(X)\n",
    "        X=self.maxpool(X)\n",
    "        X=X.view(-1,16*53*53)\n",
    "        X=F.relu(self.fc1(X))\n",
    "        X=F.relu(self.fc2(X))\n",
    "        X=self.fc3(X)\n",
    "        return X"
   ]
  },
  {
   "cell_type": "code",
   "execution_count": 76,
   "metadata": {},
   "outputs": [],
   "source": [
    "def train(net,data_loader):\n",
    "    net.train()\n",
    "    train_batch_num=len(data_loader)\n",
    "    total_loss=0\n",
    "    correct=0\n",
    "    sample_num=0\n",
    "    for batch_idx,(data,target) in enumerate(data_loader):\n",
    "        optimizer.zero_grad()\n",
    "        output=net(data)\n",
    "        loss=criterion(output,target)\n",
    "        loss.backward()\n",
    "        optimizer.step()\n",
    "        total_loss+=loss.item()\n",
    "        prediction=torch.argmax(output,1)\n",
    "        correct+=(prediction==target).sum().item()\n",
    "        sample_num+=len(prediction)\n",
    "    loss=total_loss/train_batch_num\n",
    "    acc=correct/sample_num\n",
    "    return loss,acc"
   ]
  },
  {
   "cell_type": "code",
   "execution_count": 77,
   "metadata": {},
   "outputs": [],
   "source": [
    "def test(net,data_loader):\n",
    "    net.eval()\n",
    "    test_batch_num=len(data_loader)\n",
    "    total_loss=0\n",
    "    correct=0\n",
    "    sample_num=0\n",
    "    for batch_idx,(data,target) in enumerate(data_loader):\n",
    "        output=net(data)\n",
    "        loss=criterion(output,target)\n",
    "        total_loss+=loss.item()\n",
    "        prediction=torch.argmax(output,1)\n",
    "        correct+=(prediction==target).sum().item()\n",
    "        sample_num+=len(prediction)\n",
    "    loss=total_loss/test_batch_num\n",
    "    acc=correct/sample_num\n",
    "    return loss,acc"
   ]
  },
  {
   "cell_type": "code",
   "execution_count": 78,
   "metadata": {},
   "outputs": [
    {
     "name": "stdout",
     "output_type": "stream",
     "text": [
      "MyConvModule(\n",
      "  (conv1): Sequential(\n",
      "    (0): Conv2d(3, 6, kernel_size=(5, 5), stride=(1, 1))\n",
      "    (1): BatchNorm2d(6, eps=1e-05, momentum=0.1, affine=True, track_running_stats=True)\n",
      "    (2): ReLU(inplace=True)\n",
      "  )\n",
      "  (maxpool): MaxPool2d(kernel_size=2, stride=2, padding=0, dilation=1, ceil_mode=False)\n",
      "  (conv2): Sequential(\n",
      "    (0): Conv2d(6, 16, kernel_size=(5, 5), stride=(1, 1))\n",
      "    (1): BatchNorm2d(16, eps=1e-05, momentum=0.1, affine=True, track_running_stats=True)\n",
      "    (2): ReLU(inplace=True)\n",
      "  )\n",
      "  (fc1): Linear(in_features=44944, out_features=1024, bias=True)\n",
      "  (fc2): Linear(in_features=1024, out_features=512, bias=True)\n",
      "  (fc3): Linear(in_features=512, out_features=3, bias=True)\n",
      ")\n"
     ]
    }
   ],
   "source": [
    "net=MyConvModule()\n",
    "print(net)\n",
    "optimizer = torch.optim.Adam(net.parameters(), lr=1e-2)\n",
    "criterion=torch.nn.CrossEntropyLoss()"
   ]
  },
  {
   "cell_type": "code",
   "execution_count": 79,
   "metadata": {},
   "outputs": [
    {
     "name": "stdout",
     "output_type": "stream",
     "text": [
      "epoch: 0 \t train_loss: 211.2763\t train_acc: 0.5642398286937902\t val_loss: 3.8338\t val_acc:0.5745682888540031 test_loss: 6.2746\t test_acc:0.7073170731707317\n",
      "epoch: 1 \t train_loss: 1.3206\t train_acc: 0.892933618843683\t val_loss: 28.3520\t val_acc:0.39717425431711145 test_loss: 31.9339\t test_acc:0.6097560975609756\n",
      "epoch: 2 \t train_loss: 0.4915\t train_acc: 0.8458244111349036\t val_loss: 2.8277\t val_acc:0.5886970172684458 test_loss: 5.5608\t test_acc:0.662020905923345\n",
      "epoch: 3 \t train_loss: 0.1834\t train_acc: 0.9400428265524625\t val_loss: 1.2259\t val_acc:0.6875981161695447 test_loss: 1.5414\t test_acc:0.7909407665505227\n",
      "epoch: 4 \t train_loss: 0.1293\t train_acc: 0.9486081370449678\t val_loss: 2.0867\t val_acc:0.7708006279434851 test_loss: 3.8250\t test_acc:0.7979094076655052\n",
      "epoch: 5 \t train_loss: 0.1397\t train_acc: 0.9475374732334048\t val_loss: 1.2898\t val_acc:0.7582417582417582 test_loss: 2.5151\t test_acc:0.7979094076655052\n",
      "epoch: 6 \t train_loss: 0.1658\t train_acc: 0.9207708779443254\t val_loss: 1.8455\t val_acc:0.7441130298273155 test_loss: 3.1023\t test_acc:0.7979094076655052\n",
      "epoch: 7 \t train_loss: 0.1378\t train_acc: 0.9336188436830836\t val_loss: 1.5646\t val_acc:0.7817896389324961 test_loss: 3.1738\t test_acc:0.7909407665505227\n",
      "epoch: 8 \t train_loss: 0.1179\t train_acc: 0.9539614561027837\t val_loss: 1.0340\t val_acc:0.7864992150706437 test_loss: 2.1676\t test_acc:0.7979094076655052\n",
      "epoch: 9 \t train_loss: 0.1559\t train_acc: 0.9250535331905781\t val_loss: 0.8994\t val_acc:0.7880690737833596 test_loss: 0.9404\t test_acc:0.8048780487804879\n"
     ]
    }
   ],
   "source": [
    "epoch=10\n",
    "train_loss_list=[]\n",
    "train_acc_list=[]\n",
    "val_loss_list=[]\n",
    "val_acc_list=[]\n",
    "test_loss_list=[]\n",
    "test_acc_list=[]\n",
    "since=time.time()\n",
    "for epoch in range(epoch):\n",
    "    train_loss,train_acc=train(net,train_loader)\n",
    "    val_loss,val_acc=test(net,val_loader)\n",
    "    test_loss,test_acc=test(net,test_loader)\n",
    "    train_loss_list.append(train_loss)\n",
    "    train_acc_list.append(train_acc)\n",
    "    val_loss_list.append(val_loss)\n",
    "    val_acc_list.append(val_acc)\n",
    "    test_loss_list.append(test_loss)\n",
    "    test_acc_list.append(test_acc)\n",
    "    print(f\"epoch: {epoch} \\t train_loss: {train_loss:.4f}\\t\"\n",
    "          f\" train_acc: {train_acc}\\t\"\n",
    "          f\" val_loss: {val_loss:.4f}\\t val_acc:{val_acc}\"\n",
    "          f\" test_loss: {test_loss:.4f}\\t test_acc:{test_acc}\")\n",
    "time_elapsed=(time.time()-since)/60"
   ]
  },
  {
   "cell_type": "code",
   "execution_count": 83,
   "metadata": {},
   "outputs": [
    {
     "data": {
      "text/plain": [
       "3.8906431198120117"
      ]
     },
     "execution_count": 83,
     "metadata": {},
     "output_type": "execute_result"
    }
   ],
   "source": [
    "time_elapsed"
   ]
  },
  {
   "cell_type": "code",
   "execution_count": 84,
   "metadata": {},
   "outputs": [
    {
     "data": {
      "image/png": "[encoded data removed]",
      "text/plain": [
       "<Figure size 432x288 with 1 Axes>"
      ]
     },
     "metadata": {
      "needs_background": "light"
     },
     "output_type": "display_data"
    }
   ],
   "source": [
    "x=np.linspace(0,len(train_loss_list),len(test_loss_list))\n",
    "plt.plot(x,train_loss_list,label=\"train_loss\",linewidth=1.5)\n",
    "plt.plot(x,val_loss_list,label=\"val_loss\",linewidth=1.5)\n",
    "plt.plot(x,test_loss_list,label=\"test_loss\",linewidth=1.5)\n",
    "plt.xlabel(\"epoch\")\n",
    "plt.ylabel(\"loss\")\n",
    "plt.legend()\n",
    "plt.show()"
   ]
  },
  {
   "cell_type": "code",
   "execution_count": 85,
   "metadata": {},
   "outputs": [
    {
     "data": {
      "image/png": "[encoded data removed]",
      "text/plain": [
       "<Figure size 432x288 with 1 Axes>"
      ]
     },
     "metadata": {
      "needs_background": "light"
     },
     "output_type": "display_data"
    }
   ],
   "source": [
    "x=np.linspace(0,len(train_acc_list),len(test_acc_list))\n",
    "plt.plot(x,train_acc_list,label=\"train_acc\",linewidth=1.5)\n",
    "plt.plot(x,val_acc_list,label=\"val_acc\",linewidth=1.5)\n",
    "plt.plot(x,test_acc_list,label=\"test_acc\",linewidth=1.5)\n",
    "plt.xlabel(\"epoch\")\n",
    "plt.ylabel(\"acc\")\n",
    "plt.legend()\n",
    "plt.show()"
   ]
  },
  {
   "cell_type": "code",
   "execution_count": null,
   "metadata": {},
   "outputs": [],
   "source": []
  }
 ],
 "metadata": {
  "kernelspec": {
   "display_name": "Python 3",
   "language": "python",
   "name": "python3"
  },
  "language_info": {
   "codemirror_mode": {
    "name": "ipython",
    "version": 3
   },
   "file_extension": ".py",
   "mimetype": "text/x-python",
   "name": "python",
   "nbconvert_exporter": "python",
   "pygments_lexer": "ipython3",
   "version": "3.7.3"
  }
 },
 "nbformat": 4,
 "nbformat_minor": 2
}
