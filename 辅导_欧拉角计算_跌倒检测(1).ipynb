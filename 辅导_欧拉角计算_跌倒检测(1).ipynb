{
 "cells": [
  {
   "cell_type": "code",
   "execution_count": 1,
   "metadata": {},
   "outputs": [],
   "source": [
    "import pandas as pd\n",
    "import numpy as np\n",
    "import os\n",
    "from scipy.spatial.transform import Rotation as R\n",
    "import torch\n",
    "import time\n",
    "import matplotlib.pyplot as plt"
   ]
  },
  {
   "cell_type": "code",
   "execution_count": 2,
   "metadata": {},
   "outputs": [],
   "source": [
    "#计算欧拉角\n",
    "def quaternion2euler(quaternion):\n",
    "    r = R.from_quat(quaternion)\n",
    "    euler = r.as_euler('xyz', degrees=True)\n",
    "    return euler"
   ]
  },
  {
   "cell_type": "code",
   "execution_count": 3,
   "metadata": {
    "scrolled": true
   },
   "outputs": [],
   "source": [
    "train_fall_batch = []\n",
    "num_sample = 40\n",
    "array=[1,2,3,4,5,6]\n",
    "for i in range(1,16):\n",
    "    for j in range(6):\n",
    "        k = array[j]\n",
    "        s1 = r'C:\\Users\\Desktop\\20230511_code\\HR_IMU_falldetection_dataset-master\\HR_IMU_falldetection_dataset-master\\subject_'\n",
    "        s2 = str(i).zfill(2)\n",
    "        s3 = r'\\fall\\fall'\n",
    "        s4 = str(k)\n",
    "        s5 = r'.xls'\n",
    "        ss = s1+s2+s3+s4+s5\n",
    "        if os.path.exists(ss):\n",
    "            df = pd.read_excel(ss)\n",
    "            data = df[['w','x','y','z']]\n",
    "            #print(data)\n",
    "            data_len = len(data)\n",
    "            #print(data_len)\n",
    "            #print(data_len/(num_sample))\n",
    "            distance = int(data_len/num_sample)\n",
    "            #print(distance)\n",
    "            new_data = []\n",
    "            a = 0\n",
    "            while len(new_data)<num_sample and a*distance<=(data_len-1):\n",
    "                quaternion = data.loc[a*distance].tolist()\n",
    "                #print(quaternion)\n",
    "                Euler = quaternion2euler(quaternion).tolist()\n",
    "                #print(Euler)\n",
    "                new_data.append(Euler)\n",
    "                a+=1\n",
    "            train_fall_batch.append(new_data)\n",
    "train_fall_batch = torch.tensor(train_fall_batch,dtype=torch.float32)"
   ]
  },
  {
   "cell_type": "code",
   "execution_count": 4,
   "metadata": {},
   "outputs": [],
   "source": [
    "train_nofall_batch = []\n",
    "num_sample = 40\n",
    "array=[\"bed\",\"chair\",\"clap\",\"cloth\",\"eat\",\"hair\",\"shoe\",\"stair\",\"teeth\",\"walk\",\"wash\",\"write\",\"zip\"]\n",
    "for i in range(1,16):\n",
    "    for j in range(6):\n",
    "        k = array[j]\n",
    "        s1 = r'C:\\Users\\Desktop\\20230511_code\\HR_IMU_falldetection_dataset-master\\HR_IMU_falldetection_dataset-master\\subject_'\n",
    "        s2 = str(i).zfill(2)\n",
    "        s3 = r'\\non-fall' '\\\\'\n",
    "        s4 = k\n",
    "        s5 = r'.xls'\n",
    "        ss = s1+s2+s3+s4+s5\n",
    "        #print(ss)\n",
    "        if os.path.exists(ss):\n",
    "            df = pd.read_excel(ss)\n",
    "            data = df[['w','x','y','z']]\n",
    "            #print(data)\n",
    "            data_len = len(data)\n",
    "            #print(data_len)\n",
    "            #print(data_len/(num_sample))\n",
    "            distance = int(data_len/num_sample)\n",
    "            #print(distance)\n",
    "            new_data = []\n",
    "            a = 0\n",
    "            while len(new_data)<num_sample and a*distance<=(data_len-1):\n",
    "                quaternion = data.loc[a*distance].tolist()\n",
    "                #print(quaternion)\n",
    "                Euler = quaternion2euler(quaternion).tolist()\n",
    "                #print(Euler)\n",
    "                new_data.append(Euler)\n",
    "                a+=1\n",
    "            train_nofall_batch.append(new_data)\n",
    "train_nofall_batch = torch.tensor(train_nofall_batch,dtype=torch.float32)"
   ]
  },
  {
   "cell_type": "code",
   "execution_count": 5,
   "metadata": {},
   "outputs": [
    {
     "name": "stdout",
     "output_type": "stream",
     "text": [
      "torch.Size([153]) torch.Size([153, 40, 3])\n"
     ]
    }
   ],
   "source": [
    "y_train_fall_batch = torch.ones(train_fall_batch.shape[0])\n",
    "y_train_nofall_batch = torch.zeros(train_nofall_batch.shape[0])\n",
    "train_data = torch.cat((train_fall_batch,train_nofall_batch)).long()\n",
    "y_train_data = torch.cat((y_train_fall_batch,y_train_nofall_batch))#.unsqueeze(1)\n",
    "print(y_train_data.shape,train_data.shape)"
   ]
  },
  {
   "cell_type": "code",
   "execution_count": 6,
   "metadata": {},
   "outputs": [],
   "source": [
    "nor_max = torch.max(train_data.view(-1, 3),0).values\n",
    "nor_min = torch.min(train_data.view(-1, 3),0).values"
   ]
  },
  {
   "cell_type": "code",
   "execution_count": 7,
   "metadata": {},
   "outputs": [],
   "source": [
    "#nor_min"
   ]
  },
  {
   "cell_type": "code",
   "execution_count": 8,
   "metadata": {},
   "outputs": [],
   "source": [
    "train_data = torch.div((train_data-nor_min.repeat(153,40,1)),nor_max.repeat(153,40,1) - nor_min.repeat(153,40,1))"
   ]
  },
  {
   "cell_type": "code",
   "execution_count": 9,
   "metadata": {},
   "outputs": [],
   "source": [
    "val_fall_batch = []\n",
    "num_sample = 40\n",
    "array=[1,2,3,4,5,6]\n",
    "for i in range(16,19):\n",
    "    for j in range(6):\n",
    "        k = array[j]\n",
    "        s1 = r'C:\\Users\\Desktop\\20230511_code\\HR_IMU_falldetection_dataset-master\\HR_IMU_falldetection_dataset-master\\subject_'\n",
    "        s2 = str(i).zfill(2)\n",
    "        s3 = r'\\fall\\fall'\n",
    "        s4 = str(k)\n",
    "        s5 = r'.xls'\n",
    "        ss = s1+s2+s3+s4+s5\n",
    "        if os.path.exists(ss):\n",
    "            df = pd.read_excel(ss)\n",
    "            data = df[['w','x','y','z']]\n",
    "            #print(data)\n",
    "            data_len = len(data)\n",
    "            #print(data_len)\n",
    "            #print(data_len/(num_sample))\n",
    "            distance = int(data_len/num_sample)\n",
    "            #print(distance)\n",
    "            new_data = []\n",
    "            a = 0\n",
    "            while len(new_data)<num_sample and a*distance<=(data_len-1):\n",
    "                quaternion = data.loc[a*distance].tolist()\n",
    "                #print(quaternion)\n",
    "                Euler = quaternion2euler(quaternion).tolist()\n",
    "                #print(Euler)\n",
    "                new_data.append(Euler)\n",
    "                a+=1\n",
    "            val_fall_batch.append(new_data)\n",
    "val_fall_batch = torch.tensor(val_fall_batch,dtype=torch.float32)"
   ]
  },
  {
   "cell_type": "code",
   "execution_count": 10,
   "metadata": {},
   "outputs": [],
   "source": [
    "val_nofall_batch = []\n",
    "num_sample = 40\n",
    "array=[\"bed\",\"chair\",\"clap\",\"cloth\",\"eat\",\"hair\",\"shoe\",\"stair\",\"teeth\",\"walk\",\"wash\",\"write\",\"zip\"]\n",
    "for i in range(16,19):\n",
    "    for j in range(6):\n",
    "        k = array[j]\n",
    "        s1 = r'C:\\Users\\Desktop\\20230511_code\\HR_IMU_falldetection_dataset-master\\HR_IMU_falldetection_dataset-master\\subject_'\n",
    "        s2 = str(i).zfill(2)\n",
    "        s3 = r'\\non-fall' '\\\\'\n",
    "        s4 = k\n",
    "        s5 = r'.xls'\n",
    "        ss = s1+s2+s3+s4+s5\n",
    "        #print(ss)\n",
    "        if os.path.exists(ss):\n",
    "            df = pd.read_excel(ss)\n",
    "            data = df[['w','x','y','z']]\n",
    "            #print(data)\n",
    "            data_len = len(data)\n",
    "            #print(data_len)\n",
    "            #print(data_len/(num_sample))\n",
    "            distance = int(data_len/num_sample)\n",
    "            #print(distance)\n",
    "            new_data = []\n",
    "            a = 0\n",
    "            while len(new_data)<num_sample and a*distance<=(data_len-1):\n",
    "                quaternion = data.loc[a*distance].tolist()\n",
    "                #print(quaternion)\n",
    "                Euler = quaternion2euler(quaternion).tolist()\n",
    "                #print(Euler)\n",
    "                new_data.append(Euler)\n",
    "                a+=1\n",
    "            val_nofall_batch.append(new_data)\n",
    "val_nofall_batch = torch.tensor(val_nofall_batch,dtype=torch.float32)"
   ]
  },
  {
   "cell_type": "code",
   "execution_count": 11,
   "metadata": {},
   "outputs": [
    {
     "name": "stdout",
     "output_type": "stream",
     "text": [
      "torch.Size([31]) torch.Size([31, 40, 3])\n"
     ]
    }
   ],
   "source": [
    "y_val_fall_batch = torch.ones(val_fall_batch.shape[0])\n",
    "y_val_nofall_batch = torch.zeros(val_nofall_batch.shape[0])\n",
    "val_data = torch.cat((val_fall_batch,val_nofall_batch)).long()\n",
    "y_val_data = torch.cat((y_val_fall_batch,y_val_nofall_batch))#.unsqueeze(1)\n",
    "print(y_val_data.shape,val_data.shape)"
   ]
  },
  {
   "cell_type": "code",
   "execution_count": 12,
   "metadata": {
    "scrolled": true
   },
   "outputs": [
    {
     "data": {
      "text/plain": [
       "tensor([1., 1., 1., 1., 1., 1., 1., 1., 1., 1., 1., 1., 1., 1., 1., 1., 0., 0.,\n",
       "        0., 0., 0., 0., 0., 0., 0., 0., 0., 0., 0., 0., 0.])"
      ]
     },
     "execution_count": 12,
     "metadata": {},
     "output_type": "execute_result"
    }
   ],
   "source": [
    "y_val_data"
   ]
  },
  {
   "cell_type": "code",
   "execution_count": 13,
   "metadata": {},
   "outputs": [],
   "source": [
    "val_data = torch.div((val_data-nor_min.repeat(31,40,1)),nor_max.repeat(31,40,1) - nor_min.repeat(31,40,1))"
   ]
  },
  {
   "cell_type": "code",
   "execution_count": 14,
   "metadata": {},
   "outputs": [],
   "source": [
    "test_fall_batch = []\n",
    "num_sample = 40\n",
    "array=[1,2,3,4,5,6]\n",
    "for i in range(19,22):\n",
    "    for j in range(6):\n",
    "        k = array[j]\n",
    "        s1 = r'C:\\Users\\Desktop\\20230511_code\\HR_IMU_falldetection_dataset-master\\HR_IMU_falldetection_dataset-master\\subject_'\n",
    "        s2 = str(i).zfill(2)\n",
    "        s3 = r'\\fall\\fall'\n",
    "        s4 = str(k)\n",
    "        s5 = r'.xls'\n",
    "        ss = s1+s2+s3+s4+s5\n",
    "        if os.path.exists(ss):\n",
    "            df = pd.read_excel(ss)\n",
    "            data = df[['w','x','y','z']]\n",
    "            #print(data)\n",
    "            data_len = len(data)\n",
    "            #print(data_len)\n",
    "            #print(data_len/(num_sample))\n",
    "            distance = int(data_len/num_sample)\n",
    "            #print(distance)\n",
    "            new_data = []\n",
    "            a = 0\n",
    "            while len(new_data)<num_sample and a*distance<=(data_len-1):\n",
    "                quaternion = data.loc[a*distance].tolist()\n",
    "                #print(quaternion)\n",
    "                Euler = quaternion2euler(quaternion).tolist()\n",
    "                #print(Euler)\n",
    "                new_data.append(Euler)\n",
    "                a+=1\n",
    "            test_fall_batch.append(new_data)\n",
    "test_fall_batch = torch.tensor(test_fall_batch,dtype=torch.float32)"
   ]
  },
  {
   "cell_type": "code",
   "execution_count": 15,
   "metadata": {},
   "outputs": [],
   "source": [
    "test_nofall_batch = []\n",
    "num_sample = 40\n",
    "array=[\"bed\",\"chair\",\"clap\",\"cloth\",\"eat\",\"hair\",\"shoe\",\"stair\",\"teeth\",\"walk\",\"wash\",\"write\",\"zip\"]\n",
    "for i in range(19,22):\n",
    "    for j in range(6):\n",
    "        k = array[j]\n",
    "        s1 = r'C:\\Users\\Desktop\\20230511_code\\HR_IMU_falldetection_dataset-master\\HR_IMU_falldetection_dataset-master\\subject_'\n",
    "        s2 = str(i).zfill(2)\n",
    "        s3 = r'\\non-fall' '\\\\'\n",
    "        s4 = k\n",
    "        s5 = r'.xls'\n",
    "        ss = s1+s2+s3+s4+s5\n",
    "        #print(ss)\n",
    "        if os.path.exists(ss):\n",
    "            df = pd.read_excel(ss)\n",
    "            data = df[['w','x','y','z']]\n",
    "            #print(data)\n",
    "            data_len = len(data)\n",
    "            #print(data_len)\n",
    "            #print(data_len/(num_sample))\n",
    "            distance = int(data_len/num_sample)\n",
    "            #print(distance)\n",
    "            new_data = []\n",
    "            a = 0\n",
    "            while len(new_data)<num_sample and a*distance<=(data_len-1):\n",
    "                quaternion = data.loc[a*distance].tolist()\n",
    "                #print(quaternion)\n",
    "                Euler = quaternion2euler(quaternion).tolist()\n",
    "                #print(Euler)\n",
    "                new_data.append(Euler)\n",
    "                a+=1\n",
    "            test_nofall_batch.append(new_data)\n",
    "test_nofall_batch = torch.tensor(test_nofall_batch,dtype=torch.float32)"
   ]
  },
  {
   "cell_type": "code",
   "execution_count": 16,
   "metadata": {},
   "outputs": [
    {
     "name": "stdout",
     "output_type": "stream",
     "text": [
      "torch.Size([30]) torch.Size([30, 40, 3])\n"
     ]
    }
   ],
   "source": [
    "y_test_fall_batch = torch.ones(test_fall_batch.shape[0])\n",
    "y_test_nofall_batch = torch.zeros(test_nofall_batch.shape[0])\n",
    "test_data = torch.cat((test_fall_batch,test_nofall_batch)).long()\n",
    "y_test_data = torch.cat((y_test_fall_batch,y_test_nofall_batch))#.unsqueeze(1)\n",
    "print(y_test_data.shape,test_data.shape)"
   ]
  },
  {
   "cell_type": "code",
   "execution_count": 17,
   "metadata": {},
   "outputs": [],
   "source": [
    "test_data = torch.div((test_data-nor_min.repeat(30,40,1)),nor_max.repeat(30,40,1) - nor_min.repeat(30,40,1))"
   ]
  },
  {
   "cell_type": "code",
   "execution_count": 54,
   "metadata": {},
   "outputs": [],
   "source": [
    "class MV_LSTM(torch.nn.Module):\n",
    "    def __init__(self,n_features,seq_length):\n",
    "        super(MV_LSTM, self).__init__()\n",
    "        self.n_features = n_features\n",
    "        self.seq_len = seq_length\n",
    "        self.n_hidden = 20 \n",
    "        self.n_layers = 1 \n",
    "\n",
    "        self.l_lstm = torch.nn.LSTM(input_size = n_features, \n",
    "                                 hidden_size = self.n_hidden,\n",
    "                                 num_layers = self.n_layers, \n",
    "                                 batch_first = True\n",
    "                                )\n",
    "        self.l_linear = torch.nn.Linear(self.n_hidden, 2)\n",
    "\n",
    "    '''\n",
    "    def init_hidden(self, batch_size):\n",
    "        hidden_state = torch.zeros(self.n_layers,batch_size,self.n_hidden)\n",
    "        cell_state = torch.zeros(self.n_layers,batch_size,self.n_hidden)\n",
    "        self.hidden = (hidden_state, cell_state)\n",
    "    '''\n",
    "\n",
    "    def forward(self, x):\n",
    "        #BN = torch.nn.BatchNorm2d(40,3)\n",
    "        batch_size, seq_len, _= x.size()\n",
    "\n",
    "        lstm_out, hidden = self.l_lstm(x)\n",
    "        x = lstm_out[:,self.seq_len-1,:]\n",
    "        return self.l_linear(x)"
   ]
  },
  {
   "cell_type": "code",
   "execution_count": 55,
   "metadata": {},
   "outputs": [
    {
     "data": {
      "text/plain": [
       "MV_LSTM(\n",
       "  (l_lstm): LSTM(3, 20, batch_first=True)\n",
       "  (l_linear): Linear(in_features=20, out_features=2, bias=True)\n",
       ")"
      ]
     },
     "execution_count": 55,
     "metadata": {},
     "output_type": "execute_result"
    }
   ],
   "source": [
    "mv_net=MV_LSTM(3,num_sample)\n",
    "mv_net"
   ]
  },
  {
   "cell_type": "code",
   "execution_count": 56,
   "metadata": {},
   "outputs": [],
   "source": [
    "loss_func=torch.nn.CrossEntropyLoss()\n",
    "optimizer=torch.optim.Adam(mv_net.parameters(), lr=0.001)"
   ]
  },
  {
   "cell_type": "code",
   "execution_count": 57,
   "metadata": {},
   "outputs": [],
   "source": [
    "def train(net,criterion,x,y):\n",
    "    net.train()\n",
    "    #train_batch_num=len(data_loader)\n",
    "    #total_loss=0\n",
    "    correct=0\n",
    "    sample_num=0\n",
    "    #for batch_idx,(data,target) in enumerate(data_loader):\n",
    "    optimizer.zero_grad()\n",
    "    output=net(x)\n",
    "    loss=criterion(output,y)\n",
    "    loss.backward()\n",
    "    optimizer.step()\n",
    "    #total_loss+=loss.item()\n",
    "    prediction=torch.argmax(output,1)\n",
    "    correct+=(prediction==y).sum().item()\n",
    "    sample_num+=len(prediction)\n",
    "    acc=correct/sample_num\n",
    "    return loss,acc"
   ]
  },
  {
   "cell_type": "code",
   "execution_count": 58,
   "metadata": {},
   "outputs": [],
   "source": [
    "def test(net,criterion,x,y):\n",
    "    net.eval()\n",
    "    #test_batch_num=len(data_loader)\n",
    "    #total_loss=0\n",
    "    correct=0\n",
    "    sample_num=0\n",
    "    #for batch_idx,(data,target) in enumerate(data_loader):\n",
    "    output=net(x)\n",
    "    loss=criterion(output,y)\n",
    "    #total_loss+=loss.item()\n",
    "    prediction=torch.argmax(output,1)\n",
    "    correct+=(prediction==y).sum().item()\n",
    "    sample_num+=len(prediction)\n",
    "    acc=correct/sample_num\n",
    "    return loss,acc"
   ]
  },
  {
   "cell_type": "code",
   "execution_count": 59,
   "metadata": {
    "scrolled": true
   },
   "outputs": [
    {
     "name": "stdout",
     "output_type": "stream",
     "text": [
      "epoch: 0 \t train_loss: 0.7055\t train_acc: 0.477124183006536\t val_loss: 0.7008\t val_acc:0.5161290322580645 test_loss: 0.7014\t test_acc:0.5\n",
      "epoch: 1 \t train_loss: 0.7041\t train_acc: 0.477124183006536\t val_loss: 0.7004\t val_acc:0.5161290322580645 test_loss: 0.7005\t test_acc:0.5\n",
      "epoch: 2 \t train_loss: 0.7028\t train_acc: 0.477124183006536\t val_loss: 0.7001\t val_acc:0.5161290322580645 test_loss: 0.6996\t test_acc:0.5\n",
      "epoch: 3 \t train_loss: 0.7015\t train_acc: 0.477124183006536\t val_loss: 0.6999\t val_acc:0.5161290322580645 test_loss: 0.6988\t test_acc:0.5\n",
      "epoch: 4 \t train_loss: 0.7002\t train_acc: 0.477124183006536\t val_loss: 0.6997\t val_acc:0.5161290322580645 test_loss: 0.6981\t test_acc:0.5\n",
      "epoch: 5 \t train_loss: 0.6990\t train_acc: 0.477124183006536\t val_loss: 0.6995\t val_acc:0.5161290322580645 test_loss: 0.6974\t test_acc:0.5\n",
      "epoch: 6 \t train_loss: 0.6979\t train_acc: 0.477124183006536\t val_loss: 0.6994\t val_acc:0.5161290322580645 test_loss: 0.6967\t test_acc:0.5\n",
      "epoch: 7 \t train_loss: 0.6968\t train_acc: 0.477124183006536\t val_loss: 0.6994\t val_acc:0.5161290322580645 test_loss: 0.6961\t test_acc:0.5\n",
      "epoch: 8 \t train_loss: 0.6957\t train_acc: 0.477124183006536\t val_loss: 0.6994\t val_acc:0.5161290322580645 test_loss: 0.6956\t test_acc:0.5\n",
      "epoch: 9 \t train_loss: 0.6947\t train_acc: 0.477124183006536\t val_loss: 0.6994\t val_acc:0.5161290322580645 test_loss: 0.6951\t test_acc:0.5\n",
      "epoch: 10 \t train_loss: 0.6937\t train_acc: 0.477124183006536\t val_loss: 0.6996\t val_acc:0.5161290322580645 test_loss: 0.6946\t test_acc:0.5\n",
      "epoch: 11 \t train_loss: 0.6928\t train_acc: 0.477124183006536\t val_loss: 0.6998\t val_acc:0.5161290322580645 test_loss: 0.6942\t test_acc:0.5\n",
      "epoch: 12 \t train_loss: 0.6919\t train_acc: 0.477124183006536\t val_loss: 0.7001\t val_acc:0.5161290322580645 test_loss: 0.6938\t test_acc:0.5\n",
      "epoch: 13 \t train_loss: 0.6910\t train_acc: 0.477124183006536\t val_loss: 0.7004\t val_acc:0.3870967741935484 test_loss: 0.6935\t test_acc:0.5\n",
      "epoch: 14 \t train_loss: 0.6902\t train_acc: 0.47058823529411764\t val_loss: 0.7008\t val_acc:0.3548387096774194 test_loss: 0.6933\t test_acc:0.4666666666666667\n",
      "epoch: 15 \t train_loss: 0.6894\t train_acc: 0.49019607843137253\t val_loss: 0.7013\t val_acc:0.2903225806451613 test_loss: 0.6931\t test_acc:0.43333333333333335\n",
      "epoch: 16 \t train_loss: 0.6887\t train_acc: 0.5620915032679739\t val_loss: 0.7019\t val_acc:0.25806451612903225 test_loss: 0.6930\t test_acc:0.43333333333333335\n",
      "epoch: 17 \t train_loss: 0.6880\t train_acc: 0.5751633986928104\t val_loss: 0.7025\t val_acc:0.3225806451612903 test_loss: 0.6929\t test_acc:0.5666666666666667\n",
      "epoch: 18 \t train_loss: 0.6873\t train_acc: 0.6339869281045751\t val_loss: 0.7033\t val_acc:0.3225806451612903 test_loss: 0.6929\t test_acc:0.5333333333333333\n",
      "epoch: 19 \t train_loss: 0.6867\t train_acc: 0.6993464052287581\t val_loss: 0.7041\t val_acc:0.45161290322580644 test_loss: 0.6929\t test_acc:0.5666666666666667\n",
      "epoch: 20 \t train_loss: 0.6862\t train_acc: 0.6666666666666666\t val_loss: 0.7050\t val_acc:0.5161290322580645 test_loss: 0.6930\t test_acc:0.5666666666666667\n",
      "epoch: 21 \t train_loss: 0.6856\t train_acc: 0.6535947712418301\t val_loss: 0.7060\t val_acc:0.4838709677419355 test_loss: 0.6932\t test_acc:0.5\n",
      "epoch: 22 \t train_loss: 0.6851\t train_acc: 0.6078431372549019\t val_loss: 0.7070\t val_acc:0.4838709677419355 test_loss: 0.6934\t test_acc:0.5\n",
      "epoch: 23 \t train_loss: 0.6847\t train_acc: 0.5816993464052288\t val_loss: 0.7082\t val_acc:0.45161290322580644 test_loss: 0.6937\t test_acc:0.5\n",
      "epoch: 24 \t train_loss: 0.6843\t train_acc: 0.5620915032679739\t val_loss: 0.7094\t val_acc:0.4838709677419355 test_loss: 0.6940\t test_acc:0.5\n",
      "epoch: 25 \t train_loss: 0.6839\t train_acc: 0.5555555555555556\t val_loss: 0.7107\t val_acc:0.4838709677419355 test_loss: 0.6944\t test_acc:0.5\n",
      "epoch: 26 \t train_loss: 0.6835\t train_acc: 0.5424836601307189\t val_loss: 0.7120\t val_acc:0.4838709677419355 test_loss: 0.6948\t test_acc:0.5\n",
      "epoch: 27 \t train_loss: 0.6832\t train_acc: 0.5294117647058824\t val_loss: 0.7134\t val_acc:0.4838709677419355 test_loss: 0.6952\t test_acc:0.5\n",
      "epoch: 28 \t train_loss: 0.6828\t train_acc: 0.5228758169934641\t val_loss: 0.7148\t val_acc:0.4838709677419355 test_loss: 0.6956\t test_acc:0.5\n",
      "epoch: 29 \t train_loss: 0.6825\t train_acc: 0.5228758169934641\t val_loss: 0.7162\t val_acc:0.4838709677419355 test_loss: 0.6960\t test_acc:0.5\n",
      "epoch: 30 \t train_loss: 0.6822\t train_acc: 0.5228758169934641\t val_loss: 0.7176\t val_acc:0.4838709677419355 test_loss: 0.6963\t test_acc:0.5\n",
      "epoch: 31 \t train_loss: 0.6818\t train_acc: 0.5228758169934641\t val_loss: 0.7190\t val_acc:0.4838709677419355 test_loss: 0.6967\t test_acc:0.5\n",
      "epoch: 32 \t train_loss: 0.6815\t train_acc: 0.5228758169934641\t val_loss: 0.7204\t val_acc:0.4838709677419355 test_loss: 0.6970\t test_acc:0.5\n",
      "epoch: 33 \t train_loss: 0.6811\t train_acc: 0.5228758169934641\t val_loss: 0.7218\t val_acc:0.4838709677419355 test_loss: 0.6972\t test_acc:0.5\n",
      "epoch: 34 \t train_loss: 0.6806\t train_acc: 0.5228758169934641\t val_loss: 0.7231\t val_acc:0.4838709677419355 test_loss: 0.6974\t test_acc:0.5\n",
      "epoch: 35 \t train_loss: 0.6802\t train_acc: 0.5294117647058824\t val_loss: 0.7244\t val_acc:0.4838709677419355 test_loss: 0.6975\t test_acc:0.5\n",
      "epoch: 36 \t train_loss: 0.6797\t train_acc: 0.5294117647058824\t val_loss: 0.7256\t val_acc:0.4838709677419355 test_loss: 0.6975\t test_acc:0.5\n",
      "epoch: 37 \t train_loss: 0.6791\t train_acc: 0.5424836601307189\t val_loss: 0.7269\t val_acc:0.4838709677419355 test_loss: 0.6975\t test_acc:0.5\n",
      "epoch: 38 \t train_loss: 0.6785\t train_acc: 0.5490196078431373\t val_loss: 0.7282\t val_acc:0.4838709677419355 test_loss: 0.6974\t test_acc:0.5\n",
      "epoch: 39 \t train_loss: 0.6778\t train_acc: 0.5555555555555556\t val_loss: 0.7295\t val_acc:0.4838709677419355 test_loss: 0.6973\t test_acc:0.5\n",
      "epoch: 40 \t train_loss: 0.6771\t train_acc: 0.5686274509803921\t val_loss: 0.7309\t val_acc:0.4838709677419355 test_loss: 0.6971\t test_acc:0.5\n",
      "epoch: 41 \t train_loss: 0.6764\t train_acc: 0.5816993464052288\t val_loss: 0.7324\t val_acc:0.4838709677419355 test_loss: 0.6970\t test_acc:0.5\n",
      "epoch: 42 \t train_loss: 0.6756\t train_acc: 0.5882352941176471\t val_loss: 0.7340\t val_acc:0.4838709677419355 test_loss: 0.6968\t test_acc:0.5\n",
      "epoch: 43 \t train_loss: 0.6748\t train_acc: 0.5882352941176471\t val_loss: 0.7358\t val_acc:0.45161290322580644 test_loss: 0.6966\t test_acc:0.5333333333333333\n",
      "epoch: 44 \t train_loss: 0.6739\t train_acc: 0.5947712418300654\t val_loss: 0.7379\t val_acc:0.45161290322580644 test_loss: 0.6965\t test_acc:0.5333333333333333\n",
      "epoch: 45 \t train_loss: 0.6730\t train_acc: 0.6013071895424836\t val_loss: 0.7402\t val_acc:0.4838709677419355 test_loss: 0.6964\t test_acc:0.5333333333333333\n",
      "epoch: 46 \t train_loss: 0.6720\t train_acc: 0.6143790849673203\t val_loss: 0.7428\t val_acc:0.45161290322580644 test_loss: 0.6963\t test_acc:0.5333333333333333\n",
      "epoch: 47 \t train_loss: 0.6710\t train_acc: 0.6078431372549019\t val_loss: 0.7459\t val_acc:0.45161290322580644 test_loss: 0.6963\t test_acc:0.5333333333333333\n",
      "epoch: 48 \t train_loss: 0.6698\t train_acc: 0.6274509803921569\t val_loss: 0.7494\t val_acc:0.5161290322580645 test_loss: 0.6964\t test_acc:0.5333333333333333\n",
      "epoch: 49 \t train_loss: 0.6686\t train_acc: 0.6339869281045751\t val_loss: 0.7534\t val_acc:0.4838709677419355 test_loss: 0.6965\t test_acc:0.5666666666666667\n",
      "epoch: 50 \t train_loss: 0.6672\t train_acc: 0.6339869281045751\t val_loss: 0.7581\t val_acc:0.4838709677419355 test_loss: 0.6968\t test_acc:0.5666666666666667\n",
      "epoch: 51 \t train_loss: 0.6656\t train_acc: 0.6470588235294118\t val_loss: 0.7635\t val_acc:0.4838709677419355 test_loss: 0.6972\t test_acc:0.5666666666666667\n",
      "epoch: 52 \t train_loss: 0.6639\t train_acc: 0.6470588235294118\t val_loss: 0.7697\t val_acc:0.4838709677419355 test_loss: 0.6978\t test_acc:0.5666666666666667\n",
      "epoch: 53 \t train_loss: 0.6621\t train_acc: 0.6601307189542484\t val_loss: 0.7768\t val_acc:0.4838709677419355 test_loss: 0.6985\t test_acc:0.5666666666666667\n",
      "epoch: 54 \t train_loss: 0.6600\t train_acc: 0.6470588235294118\t val_loss: 0.7847\t val_acc:0.4838709677419355 test_loss: 0.6993\t test_acc:0.5666666666666667\n",
      "epoch: 55 \t train_loss: 0.6577\t train_acc: 0.6601307189542484\t val_loss: 0.7933\t val_acc:0.41935483870967744 test_loss: 0.7000\t test_acc:0.5666666666666667\n"
     ]
    },
    {
     "name": "stdout",
     "output_type": "stream",
     "text": [
      "epoch: 56 \t train_loss: 0.6553\t train_acc: 0.6601307189542484\t val_loss: 0.8025\t val_acc:0.41935483870967744 test_loss: 0.7006\t test_acc:0.5666666666666667\n",
      "epoch: 57 \t train_loss: 0.6528\t train_acc: 0.6535947712418301\t val_loss: 0.8118\t val_acc:0.41935483870967744 test_loss: 0.7007\t test_acc:0.5666666666666667\n",
      "epoch: 58 \t train_loss: 0.6502\t train_acc: 0.6666666666666666\t val_loss: 0.8208\t val_acc:0.41935483870967744 test_loss: 0.6996\t test_acc:0.5666666666666667\n",
      "epoch: 59 \t train_loss: 0.6476\t train_acc: 0.673202614379085\t val_loss: 0.8284\t val_acc:0.3548387096774194 test_loss: 0.6968\t test_acc:0.5666666666666667\n",
      "epoch: 60 \t train_loss: 0.6448\t train_acc: 0.6601307189542484\t val_loss: 0.8338\t val_acc:0.3548387096774194 test_loss: 0.6920\t test_acc:0.5666666666666667\n",
      "epoch: 61 \t train_loss: 0.6418\t train_acc: 0.6601307189542484\t val_loss: 0.8364\t val_acc:0.3548387096774194 test_loss: 0.6856\t test_acc:0.5666666666666667\n",
      "epoch: 62 \t train_loss: 0.6388\t train_acc: 0.6535947712418301\t val_loss: 0.8368\t val_acc:0.3548387096774194 test_loss: 0.6794\t test_acc:0.6\n",
      "epoch: 63 \t train_loss: 0.6360\t train_acc: 0.6405228758169934\t val_loss: 0.8369\t val_acc:0.3870967741935484 test_loss: 0.6759\t test_acc:0.6\n",
      "epoch: 64 \t train_loss: 0.6342\t train_acc: 0.6339869281045751\t val_loss: 0.8383\t val_acc:0.41935483870967744 test_loss: 0.6755\t test_acc:0.5333333333333333\n",
      "epoch: 65 \t train_loss: 0.6335\t train_acc: 0.6405228758169934\t val_loss: 0.8409\t val_acc:0.3548387096774194 test_loss: 0.6762\t test_acc:0.5666666666666667\n",
      "epoch: 66 \t train_loss: 0.6333\t train_acc: 0.6339869281045751\t val_loss: 0.8457\t val_acc:0.41935483870967744 test_loss: 0.6744\t test_acc:0.5666666666666667\n",
      "epoch: 67 \t train_loss: 0.6324\t train_acc: 0.6274509803921569\t val_loss: 0.8541\t val_acc:0.3870967741935484 test_loss: 0.6685\t test_acc:0.6333333333333333\n",
      "epoch: 68 \t train_loss: 0.6310\t train_acc: 0.6405228758169934\t val_loss: 0.8595\t val_acc:0.3870967741935484 test_loss: 0.6635\t test_acc:0.6666666666666666\n",
      "epoch: 69 \t train_loss: 0.6320\t train_acc: 0.6470588235294118\t val_loss: 0.8544\t val_acc:0.3870967741935484 test_loss: 0.6582\t test_acc:0.6666666666666666\n",
      "epoch: 70 \t train_loss: 0.6305\t train_acc: 0.6405228758169934\t val_loss: 0.8449\t val_acc:0.41935483870967744 test_loss: 0.6571\t test_acc:0.6\n",
      "epoch: 71 \t train_loss: 0.6288\t train_acc: 0.6339869281045751\t val_loss: 0.8377\t val_acc:0.41935483870967744 test_loss: 0.6575\t test_acc:0.5333333333333333\n",
      "epoch: 72 \t train_loss: 0.6286\t train_acc: 0.6470588235294118\t val_loss: 0.8328\t val_acc:0.41935483870967744 test_loss: 0.6495\t test_acc:0.6\n",
      "epoch: 73 \t train_loss: 0.6269\t train_acc: 0.6470588235294118\t val_loss: 0.8302\t val_acc:0.41935483870967744 test_loss: 0.6382\t test_acc:0.6\n",
      "epoch: 74 \t train_loss: 0.6253\t train_acc: 0.6470588235294118\t val_loss: 0.8291\t val_acc:0.41935483870967744 test_loss: 0.6337\t test_acc:0.6\n",
      "epoch: 75 \t train_loss: 0.6245\t train_acc: 0.6601307189542484\t val_loss: 0.8265\t val_acc:0.41935483870967744 test_loss: 0.6310\t test_acc:0.6333333333333333\n",
      "epoch: 76 \t train_loss: 0.6239\t train_acc: 0.6601307189542484\t val_loss: 0.8210\t val_acc:0.41935483870967744 test_loss: 0.6263\t test_acc:0.6333333333333333\n",
      "epoch: 77 \t train_loss: 0.6227\t train_acc: 0.673202614379085\t val_loss: 0.8141\t val_acc:0.41935483870967744 test_loss: 0.6209\t test_acc:0.6\n",
      "epoch: 78 \t train_loss: 0.6217\t train_acc: 0.6797385620915033\t val_loss: 0.8083\t val_acc:0.41935483870967744 test_loss: 0.6161\t test_acc:0.6333333333333333\n",
      "epoch: 79 \t train_loss: 0.6211\t train_acc: 0.6797385620915033\t val_loss: 0.8047\t val_acc:0.45161290322580644 test_loss: 0.6117\t test_acc:0.6666666666666666\n",
      "epoch: 80 \t train_loss: 0.6201\t train_acc: 0.6797385620915033\t val_loss: 0.8033\t val_acc:0.45161290322580644 test_loss: 0.6079\t test_acc:0.6666666666666666\n",
      "epoch: 81 \t train_loss: 0.6189\t train_acc: 0.6862745098039216\t val_loss: 0.8024\t val_acc:0.45161290322580644 test_loss: 0.6045\t test_acc:0.6666666666666666\n",
      "epoch: 82 \t train_loss: 0.6180\t train_acc: 0.6928104575163399\t val_loss: 0.7979\t val_acc:0.4838709677419355 test_loss: 0.5994\t test_acc:0.7\n",
      "epoch: 83 \t train_loss: 0.6167\t train_acc: 0.6993464052287581\t val_loss: 0.7902\t val_acc:0.4838709677419355 test_loss: 0.5940\t test_acc:0.7333333333333333\n",
      "epoch: 84 \t train_loss: 0.6153\t train_acc: 0.6928104575163399\t val_loss: 0.7846\t val_acc:0.4838709677419355 test_loss: 0.5901\t test_acc:0.7333333333333333\n",
      "epoch: 85 \t train_loss: 0.6142\t train_acc: 0.6928104575163399\t val_loss: 0.7834\t val_acc:0.4838709677419355 test_loss: 0.5881\t test_acc:0.7\n",
      "epoch: 86 \t train_loss: 0.6126\t train_acc: 0.6928104575163399\t val_loss: 0.7781\t val_acc:0.4838709677419355 test_loss: 0.5863\t test_acc:0.7\n",
      "epoch: 87 \t train_loss: 0.6111\t train_acc: 0.6993464052287581\t val_loss: 0.7671\t val_acc:0.5161290322580645 test_loss: 0.5834\t test_acc:0.7333333333333333\n",
      "epoch: 88 \t train_loss: 0.6102\t train_acc: 0.6928104575163399\t val_loss: 0.7670\t val_acc:0.5483870967741935 test_loss: 0.5842\t test_acc:0.7\n",
      "epoch: 89 \t train_loss: 0.6085\t train_acc: 0.6993464052287581\t val_loss: 0.7564\t val_acc:0.5483870967741935 test_loss: 0.5823\t test_acc:0.7\n",
      "epoch: 90 \t train_loss: 0.6067\t train_acc: 0.6993464052287581\t val_loss: 0.7446\t val_acc:0.5483870967741935 test_loss: 0.5795\t test_acc:0.7333333333333333\n",
      "epoch: 91 \t train_loss: 0.6056\t train_acc: 0.7058823529411765\t val_loss: 0.7458\t val_acc:0.5483870967741935 test_loss: 0.5822\t test_acc:0.7\n",
      "epoch: 92 \t train_loss: 0.6046\t train_acc: 0.6993464052287581\t val_loss: 0.7325\t val_acc:0.5806451612903226 test_loss: 0.5781\t test_acc:0.7333333333333333\n",
      "epoch: 93 \t train_loss: 0.6020\t train_acc: 0.6993464052287581\t val_loss: 0.7276\t val_acc:0.6129032258064516 test_loss: 0.5763\t test_acc:0.7333333333333333\n",
      "epoch: 94 \t train_loss: 0.6006\t train_acc: 0.7058823529411765\t val_loss: 0.7255\t val_acc:0.6129032258064516 test_loss: 0.5794\t test_acc:0.7\n",
      "epoch: 95 \t train_loss: 0.5994\t train_acc: 0.7058823529411765\t val_loss: 0.7205\t val_acc:0.6129032258064516 test_loss: 0.5764\t test_acc:0.7333333333333333\n",
      "epoch: 96 \t train_loss: 0.5970\t train_acc: 0.7124183006535948\t val_loss: 0.7197\t val_acc:0.6129032258064516 test_loss: 0.5739\t test_acc:0.7333333333333333\n",
      "epoch: 97 \t train_loss: 0.5963\t train_acc: 0.7124183006535948\t val_loss: 0.7154\t val_acc:0.6129032258064516 test_loss: 0.5762\t test_acc:0.7\n",
      "epoch: 98 \t train_loss: 0.5944\t train_acc: 0.7189542483660131\t val_loss: 0.7133\t val_acc:0.6129032258064516 test_loss: 0.5754\t test_acc:0.7\n",
      "epoch: 99 \t train_loss: 0.5931\t train_acc: 0.7189542483660131\t val_loss: 0.7129\t val_acc:0.6129032258064516 test_loss: 0.5725\t test_acc:0.7333333333333333\n",
      "epoch: 100 \t train_loss: 0.5919\t train_acc: 0.7189542483660131\t val_loss: 0.7104\t val_acc:0.6129032258064516 test_loss: 0.5723\t test_acc:0.7333333333333333\n",
      "epoch: 101 \t train_loss: 0.5905\t train_acc: 0.7189542483660131\t val_loss: 0.7082\t val_acc:0.6129032258064516 test_loss: 0.5733\t test_acc:0.7333333333333333\n",
      "epoch: 102 \t train_loss: 0.5897\t train_acc: 0.7189542483660131\t val_loss: 0.7068\t val_acc:0.6129032258064516 test_loss: 0.5727\t test_acc:0.7333333333333333\n",
      "epoch: 103 \t train_loss: 0.5887\t train_acc: 0.7189542483660131\t val_loss: 0.7063\t val_acc:0.6129032258064516 test_loss: 0.5711\t test_acc:0.7333333333333333\n",
      "epoch: 104 \t train_loss: 0.5879\t train_acc: 0.7189542483660131\t val_loss: 0.7057\t val_acc:0.6129032258064516 test_loss: 0.5707\t test_acc:0.7333333333333333\n",
      "epoch: 105 \t train_loss: 0.5873\t train_acc: 0.7189542483660131\t val_loss: 0.7037\t val_acc:0.6129032258064516 test_loss: 0.5715\t test_acc:0.7333333333333333\n",
      "epoch: 106 \t train_loss: 0.5875\t train_acc: 0.7189542483660131\t val_loss: 0.7153\t val_acc:0.6129032258064516 test_loss: 0.5786\t test_acc:0.7\n",
      "epoch: 107 \t train_loss: 0.5988\t train_acc: 0.6928104575163399\t val_loss: 0.7145\t val_acc:0.6129032258064516 test_loss: 0.5789\t test_acc:0.7333333333333333\n",
      "epoch: 108 \t train_loss: 0.6010\t train_acc: 0.6928104575163399\t val_loss: 0.7139\t val_acc:0.6129032258064516 test_loss: 0.5783\t test_acc:0.7333333333333333\n",
      "epoch: 109 \t train_loss: 0.6002\t train_acc: 0.6928104575163399\t val_loss: 0.7136\t val_acc:0.6129032258064516 test_loss: 0.5779\t test_acc:0.7\n"
     ]
    },
    {
     "name": "stdout",
     "output_type": "stream",
     "text": [
      "epoch: 110 \t train_loss: 0.5976\t train_acc: 0.6928104575163399\t val_loss: 0.7082\t val_acc:0.5806451612903226 test_loss: 0.5708\t test_acc:0.7333333333333333\n",
      "epoch: 111 \t train_loss: 0.5860\t train_acc: 0.7189542483660131\t val_loss: 0.7064\t val_acc:0.5806451612903226 test_loss: 0.5986\t test_acc:0.7\n",
      "epoch: 112 \t train_loss: 0.5951\t train_acc: 0.7124183006535948\t val_loss: 0.7360\t val_acc:0.5806451612903226 test_loss: 0.5993\t test_acc:0.7\n",
      "epoch: 113 \t train_loss: 0.6071\t train_acc: 0.6993464052287581\t val_loss: 0.7000\t val_acc:0.6129032258064516 test_loss: 0.6007\t test_acc:0.6666666666666666\n",
      "epoch: 114 \t train_loss: 0.5919\t train_acc: 0.7124183006535948\t val_loss: 0.7059\t val_acc:0.6129032258064516 test_loss: 0.5717\t test_acc:0.7333333333333333\n",
      "epoch: 115 \t train_loss: 0.5861\t train_acc: 0.7124183006535948\t val_loss: 0.7097\t val_acc:0.6129032258064516 test_loss: 0.5780\t test_acc:0.7\n",
      "epoch: 116 \t train_loss: 0.5921\t train_acc: 0.7058823529411765\t val_loss: 0.7085\t val_acc:0.6129032258064516 test_loss: 0.5764\t test_acc:0.7\n",
      "epoch: 117 \t train_loss: 0.5895\t train_acc: 0.7058823529411765\t val_loss: 0.6971\t val_acc:0.6451612903225806 test_loss: 0.5724\t test_acc:0.7333333333333333\n",
      "epoch: 118 \t train_loss: 0.5836\t train_acc: 0.7189542483660131\t val_loss: 0.7012\t val_acc:0.5806451612903226 test_loss: 0.5948\t test_acc:0.7333333333333333\n",
      "epoch: 119 \t train_loss: 0.5907\t train_acc: 0.7124183006535948\t val_loss: 0.7289\t val_acc:0.5806451612903226 test_loss: 0.5931\t test_acc:0.7\n",
      "epoch: 120 \t train_loss: 0.5958\t train_acc: 0.7124183006535948\t val_loss: 0.6957\t val_acc:0.6451612903225806 test_loss: 0.5712\t test_acc:0.7333333333333333\n",
      "epoch: 121 \t train_loss: 0.5830\t train_acc: 0.7254901960784313\t val_loss: 0.7087\t val_acc:0.6129032258064516 test_loss: 0.5777\t test_acc:0.7\n",
      "epoch: 122 \t train_loss: 0.5909\t train_acc: 0.6993464052287581\t val_loss: 0.7095\t val_acc:0.6129032258064516 test_loss: 0.5792\t test_acc:0.7\n",
      "epoch: 123 \t train_loss: 0.5951\t train_acc: 0.6928104575163399\t val_loss: 0.7097\t val_acc:0.6129032258064516 test_loss: 0.5794\t test_acc:0.7\n",
      "epoch: 124 \t train_loss: 0.5955\t train_acc: 0.6928104575163399\t val_loss: 0.7098\t val_acc:0.6129032258064516 test_loss: 0.5791\t test_acc:0.7\n",
      "epoch: 125 \t train_loss: 0.5931\t train_acc: 0.6993464052287581\t val_loss: 0.7027\t val_acc:0.6129032258064516 test_loss: 0.5699\t test_acc:0.7333333333333333\n",
      "epoch: 126 \t train_loss: 0.5836\t train_acc: 0.7189542483660131\t val_loss: 0.6955\t val_acc:0.6451612903225806 test_loss: 0.5712\t test_acc:0.7333333333333333\n",
      "epoch: 127 \t train_loss: 0.5873\t train_acc: 0.7124183006535948\t val_loss: 0.6965\t val_acc:0.6129032258064516 test_loss: 0.5726\t test_acc:0.7\n",
      "epoch: 128 \t train_loss: 0.5888\t train_acc: 0.7124183006535948\t val_loss: 0.6957\t val_acc:0.6129032258064516 test_loss: 0.5714\t test_acc:0.7333333333333333\n",
      "epoch: 129 \t train_loss: 0.5842\t train_acc: 0.7124183006535948\t val_loss: 0.7113\t val_acc:0.6129032258064516 test_loss: 0.5782\t test_acc:0.7\n",
      "epoch: 130 \t train_loss: 0.5915\t train_acc: 0.6993464052287581\t val_loss: 0.7120\t val_acc:0.6129032258064516 test_loss: 0.5807\t test_acc:0.7333333333333333\n",
      "epoch: 131 \t train_loss: 0.6044\t train_acc: 0.6797385620915033\t val_loss: 0.6843\t val_acc:0.6129032258064516 test_loss: 0.6143\t test_acc:0.6666666666666666\n",
      "epoch: 132 \t train_loss: 0.5972\t train_acc: 0.6797385620915033\t val_loss: 0.6860\t val_acc:0.6129032258064516 test_loss: 0.6407\t test_acc:0.6333333333333333\n",
      "epoch: 133 \t train_loss: 0.6035\t train_acc: 0.673202614379085\t val_loss: 0.6863\t val_acc:0.6129032258064516 test_loss: 0.6439\t test_acc:0.6333333333333333\n",
      "epoch: 134 \t train_loss: 0.6071\t train_acc: 0.6666666666666666\t val_loss: 0.6857\t val_acc:0.6129032258064516 test_loss: 0.6451\t test_acc:0.6333333333333333\n",
      "epoch: 135 \t train_loss: 0.6069\t train_acc: 0.6666666666666666\t val_loss: 0.6846\t val_acc:0.6129032258064516 test_loss: 0.6407\t test_acc:0.6333333333333333\n",
      "epoch: 136 \t train_loss: 0.6029\t train_acc: 0.6666666666666666\t val_loss: 0.6833\t val_acc:0.6129032258064516 test_loss: 0.6379\t test_acc:0.6333333333333333\n",
      "epoch: 137 \t train_loss: 0.5967\t train_acc: 0.6797385620915033\t val_loss: 0.6725\t val_acc:0.6451612903225806 test_loss: 0.6013\t test_acc:0.6666666666666666\n",
      "epoch: 138 \t train_loss: 0.5942\t train_acc: 0.6797385620915033\t val_loss: 0.7104\t val_acc:0.6129032258064516 test_loss: 0.5757\t test_acc:0.7333333333333333\n",
      "epoch: 139 \t train_loss: 0.5969\t train_acc: 0.6862745098039216\t val_loss: 0.7146\t val_acc:0.6129032258064516 test_loss: 0.5811\t test_acc:0.7\n",
      "epoch: 140 \t train_loss: 0.5962\t train_acc: 0.6928104575163399\t val_loss: 0.7028\t val_acc:0.6129032258064516 test_loss: 0.5768\t test_acc:0.7333333333333333\n",
      "epoch: 141 \t train_loss: 0.5841\t train_acc: 0.7189542483660131\t val_loss: 0.7054\t val_acc:0.6129032258064516 test_loss: 0.5820\t test_acc:0.7333333333333333\n",
      "epoch: 142 \t train_loss: 0.5923\t train_acc: 0.6862745098039216\t val_loss: 0.7106\t val_acc:0.6129032258064516 test_loss: 0.6173\t test_acc:0.7\n",
      "epoch: 143 \t train_loss: 0.6039\t train_acc: 0.673202614379085\t val_loss: 0.7159\t val_acc:0.5806451612903226 test_loss: 0.6151\t test_acc:0.7\n",
      "epoch: 144 \t train_loss: 0.6027\t train_acc: 0.6666666666666666\t val_loss: 0.7013\t val_acc:0.6129032258064516 test_loss: 0.6007\t test_acc:0.7\n",
      "epoch: 145 \t train_loss: 0.5886\t train_acc: 0.6993464052287581\t val_loss: 0.6966\t val_acc:0.6451612903225806 test_loss: 0.5738\t test_acc:0.7333333333333333\n",
      "epoch: 146 \t train_loss: 0.5816\t train_acc: 0.7189542483660131\t val_loss: 0.7087\t val_acc:0.6129032258064516 test_loss: 0.5697\t test_acc:0.7333333333333333\n",
      "epoch: 147 \t train_loss: 0.5839\t train_acc: 0.7189542483660131\t val_loss: 0.7090\t val_acc:0.6129032258064516 test_loss: 0.5781\t test_acc:0.7\n",
      "epoch: 148 \t train_loss: 0.5897\t train_acc: 0.7058823529411765\t val_loss: 0.7088\t val_acc:0.6129032258064516 test_loss: 0.5778\t test_acc:0.7\n",
      "epoch: 149 \t train_loss: 0.5903\t train_acc: 0.6928104575163399\t val_loss: 0.7085\t val_acc:0.6129032258064516 test_loss: 0.5731\t test_acc:0.7333333333333333\n"
     ]
    }
   ],
   "source": [
    "epoch=150\n",
    "train_loss_list=[]\n",
    "train_acc_list=[]\n",
    "val_loss_list=[]\n",
    "val_acc_list=[]\n",
    "test_loss_list=[]\n",
    "test_acc_list=[]\n",
    "since=time.time()\n",
    "for epoch in range(epoch):\n",
    "    train_loss,train_acc=train(mv_net,loss_func,train_data,y_train_data.long())\n",
    "    val_loss,val_acc=test(mv_net,loss_func,val_data,y_val_data.long())\n",
    "    test_loss,test_acc=test(mv_net,loss_func,test_data,y_test_data.long())\n",
    "    train_loss_list.append(train_loss)\n",
    "    train_acc_list.append(train_acc)\n",
    "    val_loss_list.append(val_loss)\n",
    "    val_acc_list.append(val_acc)\n",
    "    test_loss_list.append(test_loss)\n",
    "    test_acc_list.append(test_acc)\n",
    "    print(f\"epoch: {epoch} \\t train_loss: {train_loss:.4f}\\t\"\n",
    "          f\" train_acc: {train_acc}\\t\"\n",
    "          f\" val_loss: {val_loss:.4f}\\t val_acc:{val_acc}\"\n",
    "          f\" test_loss: {test_loss:.4f}\\t test_acc:{test_acc}\")\n",
    "time_elapsed=(time.time()-since)/60"
   ]
  },
  {
   "cell_type": "code",
   "execution_count": 60,
   "metadata": {},
   "outputs": [
    {
     "data": {
      "text/plain": [
       "0.10514880418777466"
      ]
     },
     "execution_count": 60,
     "metadata": {},
     "output_type": "execute_result"
    }
   ],
   "source": [
    "time_elapsed"
   ]
  },
  {
   "cell_type": "code",
   "execution_count": 61,
   "metadata": {},
   "outputs": [
    {
     "data": {
      "image/png": "[encoded data removed]",
      "text/plain": [
       "<Figure size 432x288 with 1 Axes>"
      ]
     },
     "metadata": {
      "needs_background": "light"
     },
     "output_type": "display_data"
    }
   ],
   "source": [
    "x=np.linspace(0,len(train_loss_list),len(test_loss_list))\n",
    "plt.plot(x,train_loss_list,label=\"train_loss\",linewidth=1.5)\n",
    "plt.plot(x,val_loss_list,label=\"val_loss\",linewidth=1.5)\n",
    "plt.plot(x,test_loss_list,label=\"test_loss\",linewidth=1.5)\n",
    "plt.xlabel(\"epoch\")\n",
    "plt.ylabel(\"loss\")\n",
    "plt.legend()\n",
    "plt.show()"
   ]
  },
  {
   "cell_type": "code",
   "execution_count": 62,
   "metadata": {},
   "outputs": [
    {
     "data": {
      "image/png": "[encoded data removed]",
      "text/plain": [
       "<Figure size 432x288 with 1 Axes>"
      ]
     },
     "metadata": {
      "needs_background": "light"
     },
     "output_type": "display_data"
    }
   ],
   "source": [
    "x=np.linspace(0,len(train_acc_list),len(test_acc_list))\n",
    "plt.plot(x,train_acc_list,label=\"train_acc\",linewidth=1.5)\n",
    "plt.plot(x,val_acc_list,label=\"val_acc\",linewidth=1.5)\n",
    "plt.plot(x,test_acc_list,label=\"test_acc\",linewidth=1.5)\n",
    "plt.xlabel(\"epoch\")\n",
    "plt.ylabel(\"acc\")\n",
    "plt.legend()\n",
    "plt.show()"
   ]
  },
  {
   "cell_type": "code",
   "execution_count": null,
   "metadata": {},
   "outputs": [],
   "source": []
  }
 ],
 "metadata": {
  "kernelspec": {
   "display_name": "Python 3",
   "language": "python",
   "name": "python3"
  },
  "language_info": {
   "codemirror_mode": {
    "name": "ipython",
    "version": 3
   },
   "file_extension": ".py",
   "mimetype": "text/x-python",
   "name": "python",
   "nbconvert_exporter": "python",
   "pygments_lexer": "ipython3",
   "version": "3.7.3"
  }
 },
 "nbformat": 4,
 "nbformat_minor": 2
}
