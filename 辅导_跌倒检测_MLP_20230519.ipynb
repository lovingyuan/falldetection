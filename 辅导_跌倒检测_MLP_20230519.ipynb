{
 "cells": [
  {
   "cell_type": "markdown",
   "metadata": {},
   "source": [
    "# MLP实现跌倒检测"
   ]
  },
  {
   "cell_type": "code",
   "execution_count": 1,
   "metadata": {},
   "outputs": [],
   "source": [
    "import os\n",
    "import torch\n",
    "from torch.utils import data\n",
    "from PIL import Image\n",
    "import numpy as np\n",
    "from torchvision import transforms,datasets\n",
    "import shutil\n",
    "from torch.nn import init\n",
    "import torch.nn.functional as F\n",
    "import matplotlib.pyplot as plt\n",
    "import time "
   ]
  },
  {
   "cell_type": "markdown",
   "metadata": {},
   "source": [
    "## 导入数据"
   ]
  },
  {
   "cell_type": "code",
   "execution_count": 3,
   "metadata": {},
   "outputs": [],
   "source": [
    "transform=transforms.Compose([transforms.Resize(256),transforms.CenterCrop(224),transforms.ToTensor(),transforms.Normalize(mean=[.5, .5, .5], std=[.5, .5, .5])  ])"
   ]
  },
  {
   "cell_type": "code",
   "execution_count": 4,
   "metadata": {},
   "outputs": [],
   "source": [
    "train_dataset=datasets.ImageFolder('C:/Users/Desktop/20230511_code/URFD_images/data/train',transform=transform)\n",
    "val_dataset=datasets.ImageFolder('C:/Users/Desktop/20230511_code/URFD_images/data/val',transform=transform)\n",
    "test_dataset=datasets.ImageFolder('C:/Users/Desktop/20230511_code/URFD_images/data/test',transform=transform)"
   ]
  },
  {
   "cell_type": "code",
   "execution_count": 5,
   "metadata": {},
   "outputs": [],
   "source": [
    "batch_size=100\n",
    "train_loader = torch.utils.data.DataLoader(train_dataset, batch_size=batch_size, shuffle=True, num_workers=0)\n",
    "val_loader = torch.utils.data.DataLoader(val_dataset, batch_size=batch_size, shuffle=True, num_workers=0)\n",
    "test_loader = torch.utils.data.DataLoader(test_dataset, batch_size=batch_size, shuffle=True, num_workers=0)"
   ]
  },
  {
   "cell_type": "markdown",
   "metadata": {},
   "source": [
    "## 定义模型"
   ]
  },
  {
   "cell_type": "code",
   "execution_count": 6,
   "metadata": {},
   "outputs": [],
   "source": [
    "class FlattenLayer(torch.nn.Module):\n",
    "    def _init_(self):\n",
    "        super(FlatenLayer,self)._init_()\n",
    "    def forward(self,X):\n",
    "        return X.view(X.shape[0],-1)"
   ]
  },
  {
   "cell_type": "code",
   "execution_count": 7,
   "metadata": {},
   "outputs": [],
   "source": [
    "num_inputs=224*224*3\n",
    "num_hiddens1=1024\n",
    "num_hiddens2=512\n",
    "num_outputs=2\n",
    "net=torch.nn.Sequential(FlattenLayer(),torch.nn.Linear(num_inputs,num_hiddens1),torch.nn.ReLU(),torch.nn.Linear(num_hiddens1,num_hiddens2),torch.nn.ReLU(),torch.nn.Linear(num_hiddens2,num_outputs))"
   ]
  },
  {
   "cell_type": "markdown",
   "metadata": {},
   "source": [
    "## 定义损失函数"
   ]
  },
  {
   "cell_type": "code",
   "execution_count": 8,
   "metadata": {},
   "outputs": [],
   "source": [
    "loss=torch.nn.CrossEntropyLoss()"
   ]
  },
  {
   "cell_type": "markdown",
   "metadata": {},
   "source": [
    "## 定义优化器"
   ]
  },
  {
   "cell_type": "code",
   "execution_count": 9,
   "metadata": {},
   "outputs": [],
   "source": [
    "lr=1e-5\n",
    "optimizer=torch.optim.Adam(net.parameters(),lr)"
   ]
  },
  {
   "cell_type": "markdown",
   "metadata": {},
   "source": [
    "## 定义计算精度函数"
   ]
  },
  {
   "cell_type": "code",
   "execution_count": 10,
   "metadata": {},
   "outputs": [],
   "source": [
    "def evaluate_accuracy(data_iter,net,loss):\n",
    "    acc_sum=0.0\n",
    "    n=0\n",
    "    test_l_sum=0.0\n",
    "    for X,y in data_iter:\n",
    "        acc_sum+=(net(X).argmax(dim=1) == y).float().sum().item()\n",
    "        l=loss(net(X),y).sum()\n",
    "        test_l_sum+=l.item()\n",
    "        n+=y.shape[0]\n",
    "    return acc_sum/n,test_l_sum/n"
   ]
  },
  {
   "cell_type": "markdown",
   "metadata": {},
   "source": [
    "## 定义训练模型函数"
   ]
  },
  {
   "cell_type": "code",
   "execution_count": 11,
   "metadata": {},
   "outputs": [],
   "source": [
    "def train(net,train_iter,val_iter,test_iter,loss,num_epochs,batch_size,params=None,lr=None,optimizer=None):\n",
    "    since=time.time()\n",
    "    train_loss=[]\n",
    "    val_loss=[]\n",
    "    test_loss=[]\n",
    "    train_acc_list=[]\n",
    "    val_acc_list=[]\n",
    "    test_acc_list=[]\n",
    "    for epoch in range(num_epochs):\n",
    "        n=0\n",
    "        m=0\n",
    "        testl=0.0\n",
    "        train_l=0.0\n",
    "        train_acc=0.0\n",
    "        for X,y in train_iter:\n",
    "            optimizer.zero_grad()\n",
    "            y_hat= net(X)\n",
    "            l =loss(y_hat, y).sum()\n",
    "            l.backward()\n",
    "            optimizer.step()\n",
    "            train_l+=l.item()\n",
    "            train_acc+=(y_hat.argmax(dim=1)==y).float().sum().item()\n",
    "            n+=y.shape[0]\n",
    "        test_acc,testl=evaluate_accuracy(test_iter,net,loss)\n",
    "        val_acc,val=evaluate_accuracy(val_iter,net,loss)\n",
    "        train_loss.append(train_l/n)\n",
    "        test_loss.append(testl)\n",
    "        val_loss.append(val)\n",
    "        train_acc_list.append(train_acc/n)\n",
    "        val_acc_list.append(val_acc)\n",
    "        test_acc_list.append(test_acc)\n",
    "        print('epoch %d, train_l %.6f, val %.6f,testl %.6f, train_acc %.4f, val_acc %.4f, test_acc %.4f' % (epoch + 1, train_l/n, val, testl,train_acc/n,val_acc, test_acc))\n",
    "    time_elapsed=(time.time()-since)/60\n",
    "    print(time_elapsed)\n",
    "    return  train_loss,val_loss, test_loss,train_acc_list,val_acc_list,test_acc_list"
   ]
  },
  {
   "cell_type": "markdown",
   "metadata": {},
   "source": [
    "## 绘制训练集和测试集loss曲线和精度曲线"
   ]
  },
  {
   "cell_type": "code",
   "execution_count": 12,
   "metadata": {
    "scrolled": true
   },
   "outputs": [
    {
     "name": "stdout",
     "output_type": "stream",
     "text": [
      "epoch 1, train_l 0.007185, val 0.015801,testl 0.016147, train_acc 0.3061, val_acc 0.5556, test_acc 0.5814\n",
      "epoch 2, train_l 0.005883, val 0.012005,testl 0.012196, train_acc 0.7143, val_acc 0.5556, test_acc 0.5814\n",
      "epoch 3, train_l 0.005132, val 0.009046,testl 0.009143, train_acc 0.7143, val_acc 0.6667, test_acc 0.6512\n",
      "epoch 4, train_l 0.004692, val 0.008357,testl 0.008432, train_acc 0.7857, val_acc 0.6889, test_acc 0.6977\n",
      "epoch 5, train_l 0.004278, val 0.008726,testl 0.008789, train_acc 0.8163, val_acc 0.6667, test_acc 0.6512\n",
      "epoch 6, train_l 0.003973, val 0.007781,testl 0.007810, train_acc 0.7959, val_acc 0.6889, test_acc 0.6977\n",
      "epoch 7, train_l 0.003683, val 0.006382,testl 0.006372, train_acc 0.8265, val_acc 0.8667, test_acc 0.9302\n",
      "epoch 8, train_l 0.003454, val 0.006059,testl 0.006057, train_acc 0.8776, val_acc 0.8667, test_acc 0.9302\n",
      "epoch 9, train_l 0.003243, val 0.006457,testl 0.006479, train_acc 0.8776, val_acc 0.8667, test_acc 0.8837\n",
      "epoch 10, train_l 0.003066, val 0.006172,testl 0.006217, train_acc 0.8571, val_acc 0.8667, test_acc 0.9070\n",
      "0.3788487633069356\n"
     ]
    },
    {
     "data": {
      "image/png": "[encoded data removed]",
      "text/plain": [
       "<Figure size 432x288 with 1 Axes>"
      ]
     },
     "metadata": {
      "needs_background": "light"
     },
     "output_type": "display_data"
    }
   ],
   "source": [
    "num_epochs=10\n",
    "train_loss,val_loss,test_loss,train_acc_list,val_acc_list,test_acc_list=train(net, train_loader, val_loader, test_loader, loss, num_epochs,batch_size, lr=lr,optimizer=optimizer)\n",
    "x=np.linspace(0,len(train_loss),len(test_loss))\n",
    "plt.plot(x,train_loss,label=\"train_loss\",linewidth=1.5)\n",
    "plt.plot(x,val_loss,label=\"val_loss\",linewidth=1.5)\n",
    "plt.plot(x,test_loss,label=\"test_loss\",linewidth=1.5)\n",
    "plt.xlabel(\"epoch\")\n",
    "plt.ylabel(\"loss\")\n",
    "plt.legend()\n",
    "plt.show()"
   ]
  },
  {
   "cell_type": "code",
   "execution_count": 13,
   "metadata": {},
   "outputs": [
    {
     "data": {
      "image/png": "[encoded data removed]",
      "text/plain": [
       "<Figure size 432x288 with 1 Axes>"
      ]
     },
     "metadata": {
      "needs_background": "light"
     },
     "output_type": "display_data"
    }
   ],
   "source": [
    "x=np.linspace(0,len(train_acc_list),len(test_acc_list))\n",
    "plt.plot(x,train_acc_list,label=\"train_acc\",linewidth=1.5)\n",
    "plt.plot(x,val_acc_list,label=\"val_acc\",linewidth=1.5)\n",
    "plt.plot(x,test_acc_list,label=\"test_acc\",linewidth=1.5)\n",
    "plt.xlabel(\"epoch\")\n",
    "plt.ylabel(\"acc\")\n",
    "plt.legend()\n",
    "plt.show()"
   ]
  },
  {
   "cell_type": "code",
   "execution_count": null,
   "metadata": {},
   "outputs": [],
   "source": []
  }
 ],
 "metadata": {
  "kernelspec": {
   "display_name": "Python 3",
   "language": "python",
   "name": "python3"
  },
  "language_info": {
   "codemirror_mode": {
    "name": "ipython",
    "version": 3
   },
   "file_extension": ".py",
   "mimetype": "text/x-python",
   "name": "python",
   "nbconvert_exporter": "python",
   "pygments_lexer": "ipython3",
   "version": "3.7.3"
  }
 },
 "nbformat": 4,
 "nbformat_minor": 2
}
